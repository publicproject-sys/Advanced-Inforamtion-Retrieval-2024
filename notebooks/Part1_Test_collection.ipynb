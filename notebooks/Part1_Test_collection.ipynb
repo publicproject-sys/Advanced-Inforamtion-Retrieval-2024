{
 "cells": [
  {
   "cell_type": "markdown",
   "metadata": {},
   "source": [
    "## Part 1 - Test Collection Preparation 20 points\n",
    "\n",
    "* Define and describe a hypothesis of what you are going to do and why it makes sense (you are free to choose what you do, except for re-using the simple baseline unchanged, it is ok to also drop queries altogether if argued and shown why)\n",
    "* Implement an algorithm that aggregates raw judgements to labels (either 4-grades or binary) in src/judgement_aggregation.py\n",
    "* Analyze the results of the aggregation, by randomly(!) picking some examples and conducting a meta-judgement of the raw-judgements + the quality of the aggregations based on the text contents of query and passage\n",
    "* Describe your results in the report, use your labels for evaluation in part 2"
   ]
  },
  {
   "cell_type": "markdown",
   "metadata": {},
   "source": [
    "## Thinking aloud\n",
    "We have judgements about pairs of documents and quries. We need to find the way of aggregaring those judgements into a single label per pair. We have some information about judgements, such as user-id, time-to-annotate, time-of-day, judgement-value and selection-of-relevant-characters-span.\n",
    "\n",
    "Labels for sparse retrieval are important as we will use them as ground truth for model training! At this step we define the optimal strategy to obtain labels from judgements. \n",
    "\n",
    "Context:\n",
    "* We have a majority voting baseline, that aggregates the judgement values with a heuristic to take the higher grade if we have a tie.\n",
    "* We have a sparse retrieval problem, meaning, that we have only a few (< 3) of examples of relevant documents for each query.\n",
    "\n",
    "We need to:\n",
    "* ... find a more sophisticated method for aggregating the judgements\n",
    "* ... to implement the algorithm to label judgements, that suggests either binary scores (relevant/non-relevant) or 4 grades\n",
    "* ... perform the error analysis with random sampling to verify the quality of the algorithm, conduct meta-judgement of the raw judgements\n",
    "* ... describe experiments and results in a section of the report\n"
   ]
  },
  {
   "cell_type": "markdown",
   "metadata": {},
   "source": [
    "## Data exploration"
   ]
  },
  {
   "cell_type": "markdown",
   "metadata": {},
   "source": [
    "## Imports"
   ]
  },
  {
   "cell_type": "code",
   "execution_count": 2,
   "metadata": {},
   "outputs": [],
   "source": [
    "import numpy as np\n",
    "import pandas as pd\n",
    "import matplotlib.pyplot as plt\n",
    "import seaborn as sns"
   ]
  },
  {
   "cell_type": "markdown",
   "metadata": {},
   "source": [
    "## Loading data"
   ]
  },
  {
   "cell_type": "code",
   "execution_count": 3,
   "metadata": {},
   "outputs": [],
   "source": [
    "df_baseline = pd.read_csv('../data/Part-1/fira-22.baseline-qrels.tsv', sep=' ')\n",
    "df_documents = pd.read_csv('../data/Part-1/fira-22.documents.tsv', sep='\\t')\n",
    "df_queries = pd.read_csv('../data/Part-1/fira-22.queries.tsv', sep='\\t')\n",
    "df_raw_judgements = pd.read_csv('../data/Part-1/fira-22.judgements-anonymized.tsv', sep='\\t') \n",
    "df_baseline.columns = ['query_id', 'Q0', 'doc_id', 'relevance_class']\n",
    "df_raw_judgements.columns = ['id', 'relevance_class', 'relevance_character_ranges', 'duration_to_judge', 'judged_at', 'doc_id', 'query_id', 'user_id']"
   ]
  },
  {
   "cell_type": "code",
   "execution_count": 4,
   "metadata": {},
   "outputs": [
    {
     "data": {
      "text/html": [
       "<div>\n",
       "<style scoped>\n",
       "    .dataframe tbody tr th:only-of-type {\n",
       "        vertical-align: middle;\n",
       "    }\n",
       "\n",
       "    .dataframe tbody tr th {\n",
       "        vertical-align: top;\n",
       "    }\n",
       "\n",
       "    .dataframe thead th {\n",
       "        text-align: right;\n",
       "    }\n",
       "</style>\n",
       "<table border=\"1\" class=\"dataframe\">\n",
       "  <thead>\n",
       "    <tr style=\"text-align: right;\">\n",
       "      <th></th>\n",
       "      <th>id</th>\n",
       "      <th>relevance_class</th>\n",
       "      <th>relevance_character_ranges</th>\n",
       "      <th>duration_to_judge</th>\n",
       "      <th>judged_at</th>\n",
       "      <th>doc_id</th>\n",
       "      <th>query_id</th>\n",
       "      <th>user_id</th>\n",
       "    </tr>\n",
       "  </thead>\n",
       "  <tbody>\n",
       "    <tr>\n",
       "      <th>0</th>\n",
       "      <td>1</td>\n",
       "      <td>2_GOOD_ANSWER</td>\n",
       "      <td>&lt;no ranges selected&gt;</td>\n",
       "      <td>15712</td>\n",
       "      <td>1648481149</td>\n",
       "      <td>rob_FBIS3-10909</td>\n",
       "      <td>rob_q_FBIS3-10909</td>\n",
       "      <td>User_0</td>\n",
       "    </tr>\n",
       "    <tr>\n",
       "      <th>1</th>\n",
       "      <td>2</td>\n",
       "      <td>0_NOT_RELEVANT</td>\n",
       "      <td>&lt;no ranges selected&gt;</td>\n",
       "      <td>160000</td>\n",
       "      <td>1648481336</td>\n",
       "      <td>rob_FBIS3-10383</td>\n",
       "      <td>rob_q_FT941-8917</td>\n",
       "      <td>User_0</td>\n",
       "    </tr>\n",
       "    <tr>\n",
       "      <th>2</th>\n",
       "      <td>3</td>\n",
       "      <td>1_TOPIC_RELEVANT_DOES_NOT_ANSWER</td>\n",
       "      <td>&lt;no ranges selected&gt;</td>\n",
       "      <td>16699</td>\n",
       "      <td>1648481352</td>\n",
       "      <td>rob_FBIS3-10722</td>\n",
       "      <td>rob_q_FBIS3-32394</td>\n",
       "      <td>User_0</td>\n",
       "    </tr>\n",
       "    <tr>\n",
       "      <th>3</th>\n",
       "      <td>4</td>\n",
       "      <td>2_GOOD_ANSWER</td>\n",
       "      <td>&lt;no ranges selected&gt;</td>\n",
       "      <td>3442</td>\n",
       "      <td>1648481339</td>\n",
       "      <td>rob_FBIS3-11360</td>\n",
       "      <td>rob_q_FBIS3-11360</td>\n",
       "      <td>User_1</td>\n",
       "    </tr>\n",
       "    <tr>\n",
       "      <th>4</th>\n",
       "      <td>5</td>\n",
       "      <td>2_GOOD_ANSWER</td>\n",
       "      <td>&lt;no ranges selected&gt;</td>\n",
       "      <td>15849</td>\n",
       "      <td>1648481354</td>\n",
       "      <td>rob_FBIS3-11056</td>\n",
       "      <td>rob_q_FBIS3-11617</td>\n",
       "      <td>User_1</td>\n",
       "    </tr>\n",
       "  </tbody>\n",
       "</table>\n",
       "</div>"
      ],
      "text/plain": [
       "   id                   relevance_class relevance_character_ranges  \\\n",
       "0   1                     2_GOOD_ANSWER       <no ranges selected>   \n",
       "1   2                    0_NOT_RELEVANT       <no ranges selected>   \n",
       "2   3  1_TOPIC_RELEVANT_DOES_NOT_ANSWER       <no ranges selected>   \n",
       "3   4                     2_GOOD_ANSWER       <no ranges selected>   \n",
       "4   5                     2_GOOD_ANSWER       <no ranges selected>   \n",
       "\n",
       "   duration_to_judge   judged_at           doc_id           query_id user_id  \n",
       "0              15712  1648481149  rob_FBIS3-10909  rob_q_FBIS3-10909  User_0  \n",
       "1             160000  1648481336  rob_FBIS3-10383   rob_q_FT941-8917  User_0  \n",
       "2              16699  1648481352  rob_FBIS3-10722  rob_q_FBIS3-32394  User_0  \n",
       "3               3442  1648481339  rob_FBIS3-11360  rob_q_FBIS3-11360  User_1  \n",
       "4              15849  1648481354  rob_FBIS3-11056  rob_q_FBIS3-11617  User_1  "
      ]
     },
     "execution_count": 4,
     "metadata": {},
     "output_type": "execute_result"
    }
   ],
   "source": [
    "df_raw_judgements.head(5)"
   ]
  },
  {
   "cell_type": "code",
   "execution_count": 5,
   "metadata": {},
   "outputs": [
    {
     "name": "stdout",
     "output_type": "stream",
     "text": [
      "Number of judgements:  67224\n",
      "Number of unique queries:  4175\n",
      "Number of unique documents:  21190\n",
      "Number of query-document pairs:  24189\n",
      "Number of users:  152\n"
     ]
    }
   ],
   "source": [
    "print(\"Number of judgements: \", df_raw_judgements.shape[0])\n",
    "print(\"Number of unique queries: \", df_raw_judgements['query_id'].nunique())\n",
    "print(\"Number of unique documents: \", df_raw_judgements['doc_id'].nunique())\n",
    "print(\"Number of query-document pairs: \", df_raw_judgements.groupby(by = ['query_id', 'doc_id']).count()['id'].count())\n",
    "print(\"Number of users: \", df_raw_judgements['user_id'].nunique())"
   ]
  },
  {
   "cell_type": "markdown",
   "metadata": {},
   "source": [
    "## Exploratory Data Analysis"
   ]
  },
  {
   "cell_type": "code",
   "execution_count": 6,
   "metadata": {},
   "outputs": [
    {
     "data": {
      "text/plain": [
       "<AxesSubplot:ylabel='relevance_class'>"
      ]
     },
     "execution_count": 6,
     "metadata": {},
     "output_type": "execute_result"
    },
    {
     "data": {
      "image/png": "[encoded data removed]",
      "text/plain": [
       "<Figure size 432x288 with 1 Axes>"
      ]
     },
     "metadata": {
      "needs_background": "light"
     },
     "output_type": "display_data"
    }
   ],
   "source": [
    "# judgements per relevance class\n",
    "df_raw_judgements.groupby(by = ['relevance_class']).count()['id'].reset_index().plot(kind='barh', x='relevance_class')"
   ]
  },
  {
   "cell_type": "code",
   "execution_count": 7,
   "metadata": {},
   "outputs": [
    {
     "data": {
      "image/png": "[encoded data removed]",
      "text/plain": [
       "<Figure size 432x288 with 1 Axes>"
      ]
     },
     "metadata": {
      "needs_background": "light"
     },
     "output_type": "display_data"
    }
   ],
   "source": [
    "# number of query-document pairs per number of judgements\n",
    "counts = df_raw_judgements.groupby(by = ['query_id', 'doc_id']).count()['id'].reset_index().groupby(by = ['id']).count()['query_id'].reset_index()\n",
    "plt.barh(counts['id'], counts['query_id'])\n",
    "plt.title('Number of query-document pairs per number of judgements')\n",
    "plt.xlabel('Number of query-document pairs')\n",
    "plt.ylabel('Number of judgements')\n",
    "plt.show()"
   ]
  },
  {
   "cell_type": "code",
   "execution_count": 8,
   "metadata": {},
   "outputs": [
    {
     "data": {
      "text/plain": [
       "Text(0, 0.5, 'Document count')"
      ]
     },
     "execution_count": 8,
     "metadata": {},
     "output_type": "execute_result"
    },
    {
     "data": {
      "image/png": "[encoded data removed]",
      "text/plain": [
       "<Figure size 432x288 with 1 Axes>"
      ]
     },
     "metadata": {
      "needs_background": "light"
     },
     "output_type": "display_data"
    }
   ],
   "source": [
    "# documents per query\n",
    "counts = df_raw_judgements.groupby(by = ['query_id', 'doc_id']).count()['id'].reset_index().groupby(by = ['query_id']).count()['doc_id'].reset_index().groupby(by = ['doc_id']).count()['query_id'].reset_index()\n",
    "plt.barh(counts['doc_id'], counts['query_id'])\n",
    "plt.title('Document count per query')\n",
    "plt.xlabel('Number of queries')\n",
    "plt.ylabel('Document count')"
   ]
  },
  {
   "cell_type": "markdown",
   "metadata": {},
   "source": [
    "## Analysis of the relevance classes"
   ]
  },
  {
   "cell_type": "code",
   "execution_count": 9,
   "metadata": {},
   "outputs": [],
   "source": [
    "mapping_relevance = {\n",
    "    '0_NOT_RELEVANT': 0,\n",
    "    '1_TOPIC_RELEVANT_DOES_NOT_ANSWER': 0,\n",
    "    '2_GOOD_ANSWER': 1,\n",
    "    '3_PERFECT_ANSWER': 1\n",
    "}\n",
    "\n",
    "def is_contradictory(judgements, mapping_relevance):\n",
    "    \"\"\"\n",
    "    Return 1 if the judgements are contradictory, 0 otherwise. \n",
    "    Contradictory judgements are judgements where both relevant and non-relevant relevance classes were assigned to the pairs.\n",
    "    \"\"\"\n",
    "    judgements_binary = list(judgements['relevance_class'].map(mapping_relevance))\n",
    "    return int(0 in judgements_binary and 1 in judgements_binary)\n",
    "\n",
    "flag_is_contradictory = df_raw_judgements.groupby(by = ['query_id', 'doc_id']).apply(lambda x: is_contradictory(x, mapping_relevance)).reset_index()"
   ]
  },
  {
   "cell_type": "code",
   "execution_count": 10,
   "metadata": {},
   "outputs": [],
   "source": [
    "def get_binary_relevance(judgements, mapping_relevance):\n",
    "    return judgements['relevance_class'].map(mapping_relevance).value_counts().idxmax()\n",
    "\n",
    "flag_binary_relevance = df_raw_judgements.groupby(by = ['query_id', 'doc_id']).apply(lambda x: get_binary_relevance(x, mapping_relevance)).reset_index()\n",
    "\n",
    "def has_majority(judgements):\n",
    "    \"\"\"\n",
    "    Returns 1 if majority was achieved, 0 otherwise.\n",
    "    \"\"\"\n",
    "    if len(judgements) == 1:\n",
    "        return 1\n",
    "    elif len(judgements) == 2:\n",
    "        # check if both judgements are the same\n",
    "        return int(judgements['relevance_class'].nunique() == 1)\n",
    "    else:\n",
    "        # check if the majority is at least 2\n",
    "        return int(judgements['relevance_class'].value_counts().max() >= 2)\n",
    "    \n",
    "flag_has_majority = df_raw_judgements.groupby(by = ['query_id', 'doc_id']).apply(lambda x: has_majority(x)).reset_index()\n",
    "\n",
    "def is_unanimoous(judgements):\n",
    "    \"\"\"\n",
    "    Returns 1 if all judgements are the same, 0 otherwise.\n",
    "    \"\"\"\n",
    "    if len(judgements) == 1:\n",
    "        return 1\n",
    "    elif len(judgements) == 2:\n",
    "        # check if both judgements are the same\n",
    "        return int(judgements.nunique() == 1)\n",
    "    else:\n",
    "        # check if all judgements are the same\n",
    "        return int(judgements.nunique() == 1)\n",
    "\n",
    "flag_is_unanimoous = df_raw_judgements.groupby(by = ['query_id', 'doc_id']).apply(lambda x: is_unanimoous(x['relevance_class'])).reset_index()\n",
    "\n",
    "weights_relevance = {\n",
    "    '0_NOT_RELEVANT': 1,\n",
    "    '1_TOPIC_RELEVANT_DOES_NOT_ANSWER': 10,\n",
    "    '2_GOOD_ANSWER': 100,\n",
    "    '3_PERFECT_ANSWER': 1000\n",
    "}\n",
    "\n",
    "def normalized_weighted_relevance_score(judgements, weights_relevance):\n",
    "    judgements['relevance_score'] = judgements['relevance_class'].map(weights_relevance)\n",
    "    return np.log((np.product(judgements['relevance_score']) + 1) / len(judgements))\n",
    "\n",
    "score_relevance = df_raw_judgements.groupby(by = ['query_id', 'doc_id']).apply(lambda x: normalized_weighted_relevance_score(x, weights_relevance)).reset_index() \n"
   ]
  },
  {
   "cell_type": "code",
   "execution_count": 11,
   "metadata": {},
   "outputs": [],
   "source": [
    "df_pairs = df_raw_judgements.groupby(by = ['query_id', 'doc_id']).count()['id'].reset_index()\n",
    "df_pairs = df_pairs.merge(flag_is_contradictory, on=['query_id', 'doc_id'])\n",
    "df_pairs = df_pairs.merge(flag_binary_relevance, on=['query_id', 'doc_id'])\n",
    "df_pairs = df_pairs.merge(score_relevance, on=['query_id', 'doc_id'])\n",
    "df_pairs = df_pairs.merge(flag_has_majority, on=['query_id', 'doc_id'])\n",
    "df_pairs = df_pairs.merge(flag_is_unanimoous, on=['query_id', 'doc_id'])\n",
    "df_pairs.columns = ['query_id', 'doc_id', 'judgement_count', 'contradictory', 'relevant', 'relevance_score', 'has_majority', 'is_unanimoous']\n",
    "\n",
    "df_pairs['contradictory_text'] = df_pairs['contradictory'].map({0: 'non-contradictory', 1: 'contradictory'})\n",
    "df_pairs['relevant_text'] = df_pairs['relevant'].map({0: 'non-relevant', 1: 'relevant'})\n",
    "df_pairs['relevance_score_minmax'] = (df_pairs['relevance_score'] - df_pairs['relevance_score'].min()) / (df_pairs['relevance_score'].max() - df_pairs['relevance_score'].min())\n",
    "df_pairs['has_majority_text'] = df_pairs['has_majority'].map({0: 'no majority', 1: 'has majority'})\n",
    "df_pairs['unanimous_text'] = df_pairs['is_unanimoous'].map({0: 'not unanimous', 1: 'unanimous'})"
   ]
  },
  {
   "cell_type": "markdown",
   "metadata": {},
   "source": [
    "## Analysis of agreement between judgements"
   ]
  },
  {
   "cell_type": "code",
   "execution_count": 12,
   "metadata": {},
   "outputs": [
    {
     "data": {
      "image/png": "[encoded data removed]",
      "text/plain": [
       "<Figure size 432x288 with 2 Axes>"
      ]
     },
     "metadata": {
      "needs_background": "light"
     },
     "output_type": "display_data"
    }
   ],
   "source": [
    "# Comment: 69% of the pairs are non-unanimous! It means that we need an efficient way of resolving the contradictions.\n",
    "# --------------------------------------------------------------\n",
    "\n",
    "cross_tab = pd.crosstab(df_pairs['judgement_count'], df_pairs['unanimous_text'])\n",
    "# normalize the values\n",
    "cross_tab = cross_tab / cross_tab.sum().sum()\n",
    "# plot heatmap\n",
    "sns.heatmap(cross_tab, annot=True, fmt=\".2f\", cmap='Blues')\n",
    "plt.title('Cross-tabulation of judgement count and unanimous')\n",
    "plt.show()"
   ]
  },
  {
   "cell_type": "code",
   "execution_count": 13,
   "metadata": {},
   "outputs": [
    {
     "data": {
      "image/png": "[encoded data removed]",
      "text/plain": [
       "<Figure size 432x288 with 2 Axes>"
      ]
     },
     "metadata": {
      "needs_background": "light"
     },
     "output_type": "display_data"
    }
   ],
   "source": [
    "# Comment: 43% of the pairs are contradictory! We need to resolve the contradictions as it could significnatly affect the performance of the system.\n",
    "# --------------------------------------------------------------\n",
    "\n",
    "cross_tab = pd.crosstab(df_pairs['contradictory_text'], df_pairs['unanimous_text'])\n",
    "# normalize the values\n",
    "cross_tab = cross_tab / cross_tab.sum().sum()\n",
    "# plot heatmap\n",
    "sns.heatmap(cross_tab, annot=True, fmt=\".2f\", cmap='Blues')\n",
    "plt.title('Cross-tabulation of contradictory and unanimous')\n",
    "plt.show()"
   ]
  },
  {
   "cell_type": "code",
   "execution_count": 14,
   "metadata": {},
   "outputs": [
    {
     "data": {
      "image/png": "[encoded data removed]",
      "text/plain": [
       "<Figure size 432x288 with 2 Axes>"
      ]
     },
     "metadata": {
      "needs_background": "light"
     },
     "output_type": "display_data"
    }
   ],
   "source": [
    "# Comment: 18% of the pairs majority was not achieved. Which means that \n",
    "# --------------------------------------------------------------\n",
    "\n",
    "cross_tab = pd.crosstab(df_pairs['has_majority_text'], df_pairs['unanimous_text'])\n",
    "# normalize the values\n",
    "cross_tab = cross_tab / cross_tab.sum().sum()\n",
    "# plot heatmap\n",
    "sns.heatmap(cross_tab, annot=True, fmt=\".2f\", cmap='Blues')\n",
    "plt.title('Cross-tabulation of judgement has majority and unanimous')\n",
    "plt.show()"
   ]
  },
  {
   "cell_type": "markdown",
   "metadata": {},
   "source": [
    "We want to minimize the false negatives, so we want to eliminate situations, when we aren't sure about the relevance of the document. We aren't sure, when document has contradictive votes and doesn't have majority."
   ]
  },
  {
   "cell_type": "code",
   "execution_count": 15,
   "metadata": {},
   "outputs": [
    {
     "data": {
      "image/png": "[encoded data removed]",
      "text/plain": [
       "<Figure size 432x288 with 2 Axes>"
      ]
     },
     "metadata": {
      "needs_background": "light"
     },
     "output_type": "display_data"
    }
   ],
   "source": [
    "# Comment: In 18% of the pairs majority was not achieved. Most problematic cases.\n",
    "# --------------------------------------------------------------\n",
    "\n",
    "cross_tab = pd.crosstab(df_pairs['judgement_count'], df_pairs['has_majority_text'])\n",
    "# normalize the values\n",
    "cross_tab = cross_tab / cross_tab.sum().sum()\n",
    "# plot heatmap\n",
    "sns.heatmap(cross_tab, annot=True, fmt=\".2f\", cmap='Blues')\n",
    "plt.title('Cross-tabulation of judgement count and has_majority')\n",
    "plt.show()"
   ]
  },
  {
   "cell_type": "code",
   "execution_count": 16,
   "metadata": {},
   "outputs": [
    {
     "data": {
      "image/png": "[encoded data removed]",
      "text/plain": [
       "<Figure size 432x288 with 2 Axes>"
      ]
     },
     "metadata": {
      "needs_background": "light"
     },
     "output_type": "display_data"
    }
   ],
   "source": [
    "cross_tab = cross_tab / cross_tab.sum().sum()\n",
    "# plot heatmap\n",
    "sns.heatmap(cross_tab, annot=True, fmt=\".2f\", cmap='Blues')\n",
    "plt.title('Cross-tabulation of contradictory and has majority')\n",
    "plt.show()"
   ]
  },
  {
   "cell_type": "code",
   "execution_count": 17,
   "metadata": {},
   "outputs": [
    {
     "data": {
      "image/png": "[encoded data removed]",
      "text/plain": [
       "<Figure size 432x288 with 2 Axes>"
      ]
     },
     "metadata": {
      "needs_background": "light"
     },
     "output_type": "display_data"
    }
   ],
   "source": [
    "cross_tab = pd.crosstab(df_pairs['relevant_text'], df_pairs['has_majority_text'])\n",
    "# normalize the values\n",
    "cross_tab = cross_tab / cross_tab.sum().sum()\n",
    "# plot heatmap\n",
    "sns.heatmap(cross_tab, annot=True, fmt=\".2f\", cmap='Blues')\n",
    "plt.title('Cross-tabulation of relevant and has_majority')\n",
    "plt.show()\n"
   ]
  },
  {
   "cell_type": "code",
   "execution_count": 18,
   "metadata": {},
   "outputs": [
    {
     "data": {
      "text/html": [
       "<div>\n",
       "<style scoped>\n",
       "    .dataframe tbody tr th:only-of-type {\n",
       "        vertical-align: middle;\n",
       "    }\n",
       "\n",
       "    .dataframe tbody tr th {\n",
       "        vertical-align: top;\n",
       "    }\n",
       "\n",
       "    .dataframe thead th {\n",
       "        text-align: right;\n",
       "    }\n",
       "</style>\n",
       "<table border=\"1\" class=\"dataframe\">\n",
       "  <thead>\n",
       "    <tr style=\"text-align: right;\">\n",
       "      <th></th>\n",
       "      <th>query_id</th>\n",
       "      <th>doc_id</th>\n",
       "      <th>judgement_count</th>\n",
       "      <th>contradictory</th>\n",
       "      <th>relevant</th>\n",
       "      <th>relevance_score</th>\n",
       "      <th>has_majority</th>\n",
       "      <th>is_unanimoous</th>\n",
       "      <th>contradictory_text</th>\n",
       "      <th>relevant_text</th>\n",
       "      <th>relevance_score_minmax</th>\n",
       "      <th>has_majority_text</th>\n",
       "      <th>unanimous_text</th>\n",
       "    </tr>\n",
       "  </thead>\n",
       "  <tbody>\n",
       "    <tr>\n",
       "      <th>0</th>\n",
       "      <td>db_q_&lt;dbpedia:...That's_the_Way_It_Is&gt;</td>\n",
       "      <td>db_&lt;dbpedia:...That's_the_Way_It_Is&gt;</td>\n",
       "      <td>3</td>\n",
       "      <td>0</td>\n",
       "      <td>1</td>\n",
       "      <td>17.322068</td>\n",
       "      <td>1</td>\n",
       "      <td>0</td>\n",
       "      <td>non-contradictory</td>\n",
       "      <td>relevant</td>\n",
       "      <td>0.885044</td>\n",
       "      <td>has majority</td>\n",
       "      <td>not unanimous</td>\n",
       "    </tr>\n",
       "    <tr>\n",
       "      <th>1</th>\n",
       "      <td>db_q_&lt;dbpedia:...That's_the_Way_It_Is&gt;</td>\n",
       "      <td>db_&lt;dbpedia:For_the_Love_of_Harry:_Everybody_S...</td>\n",
       "      <td>3</td>\n",
       "      <td>0</td>\n",
       "      <td>0</td>\n",
       "      <td>3.516508</td>\n",
       "      <td>1</td>\n",
       "      <td>0</td>\n",
       "      <td>non-contradictory</td>\n",
       "      <td>non-relevant</td>\n",
       "      <td>0.195804</td>\n",
       "      <td>has majority</td>\n",
       "      <td>not unanimous</td>\n",
       "    </tr>\n",
       "    <tr>\n",
       "      <th>2</th>\n",
       "      <td>db_q_&lt;dbpedia:...That's_the_Way_It_Is&gt;</td>\n",
       "      <td>db_&lt;dbpedia:Old_Dirt_Road&gt;</td>\n",
       "      <td>3</td>\n",
       "      <td>0</td>\n",
       "      <td>0</td>\n",
       "      <td>1.299283</td>\n",
       "      <td>1</td>\n",
       "      <td>0</td>\n",
       "      <td>non-contradictory</td>\n",
       "      <td>non-relevant</td>\n",
       "      <td>0.085109</td>\n",
       "      <td>has majority</td>\n",
       "      <td>not unanimous</td>\n",
       "    </tr>\n",
       "    <tr>\n",
       "      <th>3</th>\n",
       "      <td>db_q_&lt;dbpedia:.hn&gt;</td>\n",
       "      <td>db_&lt;dbpedia:.hn&gt;</td>\n",
       "      <td>3</td>\n",
       "      <td>1</td>\n",
       "      <td>1</td>\n",
       "      <td>10.414323</td>\n",
       "      <td>0</td>\n",
       "      <td>0</td>\n",
       "      <td>contradictory</td>\n",
       "      <td>relevant</td>\n",
       "      <td>0.540176</td>\n",
       "      <td>no majority</td>\n",
       "      <td>not unanimous</td>\n",
       "    </tr>\n",
       "    <tr>\n",
       "      <th>4</th>\n",
       "      <td>db_q_&lt;dbpedia:.hn&gt;</td>\n",
       "      <td>db_&lt;dbpedia:Culture_of_Honduras&gt;</td>\n",
       "      <td>3</td>\n",
       "      <td>0</td>\n",
       "      <td>0</td>\n",
       "      <td>5.810142</td>\n",
       "      <td>1</td>\n",
       "      <td>1</td>\n",
       "      <td>non-contradictory</td>\n",
       "      <td>non-relevant</td>\n",
       "      <td>0.310313</td>\n",
       "      <td>has majority</td>\n",
       "      <td>unanimous</td>\n",
       "    </tr>\n",
       "  </tbody>\n",
       "</table>\n",
       "</div>"
      ],
      "text/plain": [
       "                                 query_id  \\\n",
       "0  db_q_<dbpedia:...That's_the_Way_It_Is>   \n",
       "1  db_q_<dbpedia:...That's_the_Way_It_Is>   \n",
       "2  db_q_<dbpedia:...That's_the_Way_It_Is>   \n",
       "3                      db_q_<dbpedia:.hn>   \n",
       "4                      db_q_<dbpedia:.hn>   \n",
       "\n",
       "                                              doc_id  judgement_count  \\\n",
       "0               db_<dbpedia:...That's_the_Way_It_Is>                3   \n",
       "1  db_<dbpedia:For_the_Love_of_Harry:_Everybody_S...                3   \n",
       "2                         db_<dbpedia:Old_Dirt_Road>                3   \n",
       "3                                   db_<dbpedia:.hn>                3   \n",
       "4                   db_<dbpedia:Culture_of_Honduras>                3   \n",
       "\n",
       "   contradictory  relevant  relevance_score  has_majority  is_unanimoous  \\\n",
       "0              0         1        17.322068             1              0   \n",
       "1              0         0         3.516508             1              0   \n",
       "2              0         0         1.299283             1              0   \n",
       "3              1         1        10.414323             0              0   \n",
       "4              0         0         5.810142             1              1   \n",
       "\n",
       "  contradictory_text relevant_text  relevance_score_minmax has_majority_text  \\\n",
       "0  non-contradictory      relevant                0.885044      has majority   \n",
       "1  non-contradictory  non-relevant                0.195804      has majority   \n",
       "2  non-contradictory  non-relevant                0.085109      has majority   \n",
       "3      contradictory      relevant                0.540176       no majority   \n",
       "4  non-contradictory  non-relevant                0.310313      has majority   \n",
       "\n",
       "  unanimous_text  \n",
       "0  not unanimous  \n",
       "1  not unanimous  \n",
       "2  not unanimous  \n",
       "3  not unanimous  \n",
       "4      unanimous  "
      ]
     },
     "execution_count": 18,
     "metadata": {},
     "output_type": "execute_result"
    }
   ],
   "source": [
    "df_pairs.head(5)"
   ]
  },
  {
   "cell_type": "code",
   "execution_count": 19,
   "metadata": {},
   "outputs": [
    {
     "data": {
      "image/png": "[encoded data removed]",
      "text/plain": [
       "<Figure size 432x288 with 1 Axes>"
      ]
     },
     "metadata": {
      "needs_background": "light"
     },
     "output_type": "display_data"
    }
   ],
   "source": [
    "# plot kde plot of relevance scores per relevance class\n",
    "sns.kdeplot(df_pairs['relevance_score_minmax'], hue=df_pairs['relevant_text'], fill=True, common_norm=False, alpha=0.5, linewidth=0.5)\n",
    "plt.title('Density plot of relevance scores per relevance class')\n",
    "plt.xlabel('Relevance score')\n",
    "plt.ylabel('Density')\n",
    "# add legend\n",
    "plt.legend(title='Relevance class', loc='upper right', labels=['non-relevant', 'relevant'])\n",
    "\n",
    "plt.show()\n"
   ]
  },
  {
   "cell_type": "code",
   "execution_count": 20,
   "metadata": {},
   "outputs": [
    {
     "data": {
      "text/plain": [
       "<AxesSubplot:ylabel='relevant_text,contradictory_text'>"
      ]
     },
     "execution_count": 20,
     "metadata": {},
     "output_type": "execute_result"
    },
    {
     "data": {
      "image/png": "[encoded data removed]",
      "text/plain": [
       "<Figure size 432x288 with 1 Axes>"
      ]
     },
     "metadata": {
      "needs_background": "light"
     },
     "output_type": "display_data"
    }
   ],
   "source": [
    "# plot number of pairs with contradictory judgements vs majority aggregation\n",
    "df_pairs.groupby(by = ['relevant_text', 'contradictory_text', 'judgement_count']).count()['query_id'].unstack().plot(kind='barh', stacked=True)\n"
   ]
  },
  {
   "cell_type": "code",
   "execution_count": 21,
   "metadata": {},
   "outputs": [
    {
     "data": {
      "text/html": [
       "<div>\n",
       "<style scoped>\n",
       "    .dataframe tbody tr th:only-of-type {\n",
       "        vertical-align: middle;\n",
       "    }\n",
       "\n",
       "    .dataframe tbody tr th {\n",
       "        vertical-align: top;\n",
       "    }\n",
       "\n",
       "    .dataframe thead th {\n",
       "        text-align: right;\n",
       "    }\n",
       "</style>\n",
       "<table border=\"1\" class=\"dataframe\">\n",
       "  <thead>\n",
       "    <tr style=\"text-align: right;\">\n",
       "      <th></th>\n",
       "      <th>query_id</th>\n",
       "      <th>doc_id</th>\n",
       "      <th>0</th>\n",
       "    </tr>\n",
       "  </thead>\n",
       "  <tbody>\n",
       "    <tr>\n",
       "      <th>0</th>\n",
       "      <td>db_q_&lt;dbpedia:...That's_the_Way_It_Is&gt;</td>\n",
       "      <td>db_&lt;dbpedia:...That's_the_Way_It_Is&gt;</td>\n",
       "      <td>3_PERFECT_ANSWER</td>\n",
       "    </tr>\n",
       "    <tr>\n",
       "      <th>1</th>\n",
       "      <td>db_q_&lt;dbpedia:...That's_the_Way_It_Is&gt;</td>\n",
       "      <td>db_&lt;dbpedia:For_the_Love_of_Harry:_Everybody_S...</td>\n",
       "      <td>1_TOPIC_RELEVANT_DOES_NOT_ANSWER</td>\n",
       "    </tr>\n",
       "    <tr>\n",
       "      <th>2</th>\n",
       "      <td>db_q_&lt;dbpedia:...That's_the_Way_It_Is&gt;</td>\n",
       "      <td>db_&lt;dbpedia:Old_Dirt_Road&gt;</td>\n",
       "      <td>0_NOT_RELEVANT</td>\n",
       "    </tr>\n",
       "    <tr>\n",
       "      <th>3</th>\n",
       "      <td>db_q_&lt;dbpedia:.hn&gt;</td>\n",
       "      <td>db_&lt;dbpedia:.hn&gt;</td>\n",
       "      <td>2_GOOD_ANSWER</td>\n",
       "    </tr>\n",
       "    <tr>\n",
       "      <th>4</th>\n",
       "      <td>db_q_&lt;dbpedia:.hn&gt;</td>\n",
       "      <td>db_&lt;dbpedia:Culture_of_Honduras&gt;</td>\n",
       "      <td>1_TOPIC_RELEVANT_DOES_NOT_ANSWER</td>\n",
       "    </tr>\n",
       "    <tr>\n",
       "      <th>...</th>\n",
       "      <td>...</td>\n",
       "      <td>...</td>\n",
       "      <td>...</td>\n",
       "    </tr>\n",
       "    <tr>\n",
       "      <th>24184</th>\n",
       "      <td>trip_9999</td>\n",
       "      <td>trip_9337525</td>\n",
       "      <td>2_GOOD_ANSWER</td>\n",
       "    </tr>\n",
       "    <tr>\n",
       "      <th>24185</th>\n",
       "      <td>trip_9999</td>\n",
       "      <td>trip_9337888</td>\n",
       "      <td>3_PERFECT_ANSWER</td>\n",
       "    </tr>\n",
       "    <tr>\n",
       "      <th>24186</th>\n",
       "      <td>trip_9999</td>\n",
       "      <td>trip_9353917</td>\n",
       "      <td>3_PERFECT_ANSWER</td>\n",
       "    </tr>\n",
       "    <tr>\n",
       "      <th>24187</th>\n",
       "      <td>trip_9999</td>\n",
       "      <td>trip_9363894</td>\n",
       "      <td>2_GOOD_ANSWER</td>\n",
       "    </tr>\n",
       "    <tr>\n",
       "      <th>24188</th>\n",
       "      <td>trip_9999</td>\n",
       "      <td>trip_9526692</td>\n",
       "      <td>2_GOOD_ANSWER</td>\n",
       "    </tr>\n",
       "  </tbody>\n",
       "</table>\n",
       "<p>24189 rows × 3 columns</p>\n",
       "</div>"
      ],
      "text/plain": [
       "                                     query_id  \\\n",
       "0      db_q_<dbpedia:...That's_the_Way_It_Is>   \n",
       "1      db_q_<dbpedia:...That's_the_Way_It_Is>   \n",
       "2      db_q_<dbpedia:...That's_the_Way_It_Is>   \n",
       "3                          db_q_<dbpedia:.hn>   \n",
       "4                          db_q_<dbpedia:.hn>   \n",
       "...                                       ...   \n",
       "24184                               trip_9999   \n",
       "24185                               trip_9999   \n",
       "24186                               trip_9999   \n",
       "24187                               trip_9999   \n",
       "24188                               trip_9999   \n",
       "\n",
       "                                                  doc_id  \\\n",
       "0                   db_<dbpedia:...That's_the_Way_It_Is>   \n",
       "1      db_<dbpedia:For_the_Love_of_Harry:_Everybody_S...   \n",
       "2                             db_<dbpedia:Old_Dirt_Road>   \n",
       "3                                       db_<dbpedia:.hn>   \n",
       "4                       db_<dbpedia:Culture_of_Honduras>   \n",
       "...                                                  ...   \n",
       "24184                                       trip_9337525   \n",
       "24185                                       trip_9337888   \n",
       "24186                                       trip_9353917   \n",
       "24187                                       trip_9363894   \n",
       "24188                                       trip_9526692   \n",
       "\n",
       "                                      0  \n",
       "0                      3_PERFECT_ANSWER  \n",
       "1      1_TOPIC_RELEVANT_DOES_NOT_ANSWER  \n",
       "2                        0_NOT_RELEVANT  \n",
       "3                         2_GOOD_ANSWER  \n",
       "4      1_TOPIC_RELEVANT_DOES_NOT_ANSWER  \n",
       "...                                 ...  \n",
       "24184                     2_GOOD_ANSWER  \n",
       "24185                  3_PERFECT_ANSWER  \n",
       "24186                  3_PERFECT_ANSWER  \n",
       "24187                     2_GOOD_ANSWER  \n",
       "24188                     2_GOOD_ANSWER  \n",
       "\n",
       "[24189 rows x 3 columns]"
      ]
     },
     "execution_count": 21,
     "metadata": {},
     "output_type": "execute_result"
    }
   ],
   "source": [
    "# define custom aggregation function for judgement aggregation\n",
    "def majority_voting_agg(judgements):\n",
    "    return judgements['relevance_class'].value_counts().idxmax()\n",
    "\n",
    "# aggregate judgements\n",
    "df_aggregated_judgements = df_raw_judgements.groupby(by = ['query_id', 'doc_id']).apply(majority_voting_agg).reset_index()\n",
    "df_aggregated_judgements"
   ]
  },
  {
   "cell_type": "code",
   "execution_count": 22,
   "metadata": {},
   "outputs": [
    {
     "data": {
      "text/html": [
       "<div>\n",
       "<style scoped>\n",
       "    .dataframe tbody tr th:only-of-type {\n",
       "        vertical-align: middle;\n",
       "    }\n",
       "\n",
       "    .dataframe tbody tr th {\n",
       "        vertical-align: top;\n",
       "    }\n",
       "\n",
       "    .dataframe thead th {\n",
       "        text-align: right;\n",
       "    }\n",
       "</style>\n",
       "<table border=\"1\" class=\"dataframe\">\n",
       "  <thead>\n",
       "    <tr style=\"text-align: right;\">\n",
       "      <th></th>\n",
       "      <th>id</th>\n",
       "      <th>relevance_class</th>\n",
       "      <th>relevance_character_ranges</th>\n",
       "      <th>duration_to_judge</th>\n",
       "      <th>judged_at</th>\n",
       "      <th>doc_id</th>\n",
       "      <th>query_id</th>\n",
       "      <th>user_id</th>\n",
       "    </tr>\n",
       "  </thead>\n",
       "  <tbody>\n",
       "    <tr>\n",
       "      <th>0</th>\n",
       "      <td>1</td>\n",
       "      <td>2_GOOD_ANSWER</td>\n",
       "      <td>&lt;no ranges selected&gt;</td>\n",
       "      <td>15712</td>\n",
       "      <td>1648481149</td>\n",
       "      <td>rob_FBIS3-10909</td>\n",
       "      <td>rob_q_FBIS3-10909</td>\n",
       "      <td>User_0</td>\n",
       "    </tr>\n",
       "    <tr>\n",
       "      <th>1</th>\n",
       "      <td>2</td>\n",
       "      <td>0_NOT_RELEVANT</td>\n",
       "      <td>&lt;no ranges selected&gt;</td>\n",
       "      <td>160000</td>\n",
       "      <td>1648481336</td>\n",
       "      <td>rob_FBIS3-10383</td>\n",
       "      <td>rob_q_FT941-8917</td>\n",
       "      <td>User_0</td>\n",
       "    </tr>\n",
       "    <tr>\n",
       "      <th>2</th>\n",
       "      <td>3</td>\n",
       "      <td>1_TOPIC_RELEVANT_DOES_NOT_ANSWER</td>\n",
       "      <td>&lt;no ranges selected&gt;</td>\n",
       "      <td>16699</td>\n",
       "      <td>1648481352</td>\n",
       "      <td>rob_FBIS3-10722</td>\n",
       "      <td>rob_q_FBIS3-32394</td>\n",
       "      <td>User_0</td>\n",
       "    </tr>\n",
       "    <tr>\n",
       "      <th>3</th>\n",
       "      <td>4</td>\n",
       "      <td>2_GOOD_ANSWER</td>\n",
       "      <td>&lt;no ranges selected&gt;</td>\n",
       "      <td>3442</td>\n",
       "      <td>1648481339</td>\n",
       "      <td>rob_FBIS3-11360</td>\n",
       "      <td>rob_q_FBIS3-11360</td>\n",
       "      <td>User_1</td>\n",
       "    </tr>\n",
       "    <tr>\n",
       "      <th>4</th>\n",
       "      <td>5</td>\n",
       "      <td>2_GOOD_ANSWER</td>\n",
       "      <td>&lt;no ranges selected&gt;</td>\n",
       "      <td>15849</td>\n",
       "      <td>1648481354</td>\n",
       "      <td>rob_FBIS3-11056</td>\n",
       "      <td>rob_q_FBIS3-11617</td>\n",
       "      <td>User_1</td>\n",
       "    </tr>\n",
       "  </tbody>\n",
       "</table>\n",
       "</div>"
      ],
      "text/plain": [
       "   id                   relevance_class relevance_character_ranges  \\\n",
       "0   1                     2_GOOD_ANSWER       <no ranges selected>   \n",
       "1   2                    0_NOT_RELEVANT       <no ranges selected>   \n",
       "2   3  1_TOPIC_RELEVANT_DOES_NOT_ANSWER       <no ranges selected>   \n",
       "3   4                     2_GOOD_ANSWER       <no ranges selected>   \n",
       "4   5                     2_GOOD_ANSWER       <no ranges selected>   \n",
       "\n",
       "   duration_to_judge   judged_at           doc_id           query_id user_id  \n",
       "0              15712  1648481149  rob_FBIS3-10909  rob_q_FBIS3-10909  User_0  \n",
       "1             160000  1648481336  rob_FBIS3-10383   rob_q_FT941-8917  User_0  \n",
       "2              16699  1648481352  rob_FBIS3-10722  rob_q_FBIS3-32394  User_0  \n",
       "3               3442  1648481339  rob_FBIS3-11360  rob_q_FBIS3-11360  User_1  \n",
       "4              15849  1648481354  rob_FBIS3-11056  rob_q_FBIS3-11617  User_1  "
      ]
     },
     "execution_count": 22,
     "metadata": {},
     "output_type": "execute_result"
    }
   ],
   "source": [
    "df_raw_judgements.head(5)"
   ]
  },
  {
   "cell_type": "markdown",
   "metadata": {},
   "source": [
    "## Analysis of annotators' behaviour"
   ]
  },
  {
   "cell_type": "code",
   "execution_count": 23,
   "metadata": {},
   "outputs": [
    {
     "name": "stdout",
     "output_type": "stream",
     "text": [
      "(1372, 9)\n",
      "{'user_id': 'User_0', 'agreement_score': 0.7793983591613491, 'has_majority': 1097, 'has_alignment': 939, 'has_majority_and_alignment': 855, 'total_pairs': 1372}\n",
      "(9, 9)\n",
      "{'user_id': 'User_1', 'agreement_score': 0.6666666666666666, 'has_majority': 9, 'has_alignment': 6, 'has_majority_and_alignment': 6, 'total_pairs': 9}\n",
      "(300, 9)\n",
      "{'user_id': 'User_2', 'agreement_score': 0.765625, 'has_majority': 256, 'has_alignment': 226, 'has_majority_and_alignment': 196, 'total_pairs': 300}\n",
      "(601, 9)\n",
      "{'user_id': 'User_3', 'agreement_score': 0.6955602536997886, 'has_majority': 473, 'has_alignment': 352, 'has_majority_and_alignment': 329, 'total_pairs': 601}\n",
      "(701, 9)\n",
      "{'user_id': 'User_4', 'agreement_score': 0.7855946398659966, 'has_majority': 597, 'has_alignment': 512, 'has_majority_and_alignment': 469, 'total_pairs': 701}\n",
      "(601, 9)\n",
      "{'user_id': 'User_5', 'agreement_score': 0.811088295687885, 'has_majority': 487, 'has_alignment': 431, 'has_majority_and_alignment': 395, 'total_pairs': 601}\n",
      "(400, 9)\n",
      "{'user_id': 'User_6', 'agreement_score': 0.7130434782608696, 'has_majority': 345, 'has_alignment': 267, 'has_majority_and_alignment': 246, 'total_pairs': 400}\n",
      "(1300, 9)\n",
      "{'user_id': 'User_7', 'agreement_score': 0.8005366726296959, 'has_majority': 1118, 'has_alignment': 950, 'has_majority_and_alignment': 895, 'total_pairs': 1300}\n",
      "(300, 9)\n",
      "{'user_id': 'User_8', 'agreement_score': 0.7613168724279835, 'has_majority': 243, 'has_alignment': 202, 'has_majority_and_alignment': 185, 'total_pairs': 300}\n",
      "(500, 9)\n",
      "{'user_id': 'User_9', 'agreement_score': 0.8054187192118226, 'has_majority': 406, 'has_alignment': 361, 'has_majority_and_alignment': 327, 'total_pairs': 500}\n",
      "(701, 9)\n",
      "{'user_id': 'User_10', 'agreement_score': 0.8443316412859561, 'has_majority': 591, 'has_alignment': 539, 'has_majority_and_alignment': 499, 'total_pairs': 701}\n",
      "(351, 9)\n",
      "{'user_id': 'User_11', 'agreement_score': 0.8257839721254355, 'has_majority': 287, 'has_alignment': 254, 'has_majority_and_alignment': 237, 'total_pairs': 351}\n",
      "(266, 9)\n",
      "{'user_id': 'User_12', 'agreement_score': 0.7587719298245614, 'has_majority': 228, 'has_alignment': 184, 'has_majority_and_alignment': 173, 'total_pairs': 266}\n",
      "(300, 9)\n",
      "{'user_id': 'User_13', 'agreement_score': 0.757085020242915, 'has_majority': 247, 'has_alignment': 204, 'has_majority_and_alignment': 187, 'total_pairs': 300}\n",
      "(1251, 9)\n",
      "{'user_id': 'User_14', 'agreement_score': 0.7483124397299904, 'has_majority': 1037, 'has_alignment': 854, 'has_majority_and_alignment': 776, 'total_pairs': 1251}\n",
      "(8, 9)\n",
      "{'user_id': 'User_15', 'agreement_score': 0.5714285714285714, 'has_majority': 7, 'has_alignment': 4, 'has_majority_and_alignment': 4, 'total_pairs': 8}\n",
      "(300, 9)\n",
      "{'user_id': 'User_16', 'agreement_score': 0.833976833976834, 'has_majority': 259, 'has_alignment': 224, 'has_majority_and_alignment': 216, 'total_pairs': 300}\n",
      "(550, 9)\n",
      "{'user_id': 'User_17', 'agreement_score': 0.7839643652561247, 'has_majority': 449, 'has_alignment': 388, 'has_majority_and_alignment': 352, 'total_pairs': 550}\n",
      "(300, 9)\n",
      "{'user_id': 'User_18', 'agreement_score': 0.7061224489795919, 'has_majority': 245, 'has_alignment': 200, 'has_majority_and_alignment': 173, 'total_pairs': 300}\n",
      "(1302, 9)\n",
      "{'user_id': 'User_19', 'agreement_score': 0.7402957486136784, 'has_majority': 1082, 'has_alignment': 881, 'has_majority_and_alignment': 801, 'total_pairs': 1302}\n",
      "(850, 9)\n",
      "{'user_id': 'User_20', 'agreement_score': 0.7442196531791907, 'has_majority': 692, 'has_alignment': 558, 'has_majority_and_alignment': 515, 'total_pairs': 850}\n",
      "(300, 9)\n",
      "{'user_id': 'User_21', 'agreement_score': 0.6936170212765957, 'has_majority': 235, 'has_alignment': 182, 'has_majority_and_alignment': 163, 'total_pairs': 300}\n",
      "(300, 9)\n",
      "{'user_id': 'User_22', 'agreement_score': 0.7901234567901234, 'has_majority': 243, 'has_alignment': 207, 'has_majority_and_alignment': 192, 'total_pairs': 300}\n",
      "(1251, 9)\n",
      "{'user_id': 'User_23', 'agreement_score': 0.7467980295566502, 'has_majority': 1015, 'has_alignment': 827, 'has_majority_and_alignment': 758, 'total_pairs': 1251}\n",
      "(151, 9)\n",
      "{'user_id': 'User_24', 'agreement_score': 0.8454545454545455, 'has_majority': 110, 'has_alignment': 114, 'has_majority_and_alignment': 93, 'total_pairs': 151}\n",
      "(300, 9)\n",
      "{'user_id': 'User_25', 'agreement_score': 0.82421875, 'has_majority': 256, 'has_alignment': 225, 'has_majority_and_alignment': 211, 'total_pairs': 300}\n",
      "(302, 9)\n",
      "{'user_id': 'User_26', 'agreement_score': 0.8207171314741036, 'has_majority': 251, 'has_alignment': 212, 'has_majority_and_alignment': 206, 'total_pairs': 302}\n",
      "(300, 9)\n",
      "{'user_id': 'User_27', 'agreement_score': 0.7090909090909091, 'has_majority': 220, 'has_alignment': 178, 'has_majority_and_alignment': 156, 'total_pairs': 300}\n",
      "(300, 9)\n",
      "{'user_id': 'User_28', 'agreement_score': 0.805668016194332, 'has_majority': 247, 'has_alignment': 223, 'has_majority_and_alignment': 199, 'total_pairs': 300}\n",
      "(951, 9)\n",
      "{'user_id': 'User_29', 'agreement_score': 0.7900621118012422, 'has_majority': 805, 'has_alignment': 674, 'has_majority_and_alignment': 636, 'total_pairs': 951}\n",
      "(300, 9)\n",
      "{'user_id': 'User_30', 'agreement_score': 0.75390625, 'has_majority': 256, 'has_alignment': 215, 'has_majority_and_alignment': 193, 'total_pairs': 300}\n",
      "(300, 9)\n",
      "{'user_id': 'User_31', 'agreement_score': 0.7361702127659574, 'has_majority': 235, 'has_alignment': 194, 'has_majority_and_alignment': 173, 'total_pairs': 300}\n",
      "(1060, 9)\n",
      "{'user_id': 'User_32', 'agreement_score': 0.7906976744186046, 'has_majority': 903, 'has_alignment': 782, 'has_majority_and_alignment': 714, 'total_pairs': 1060}\n",
      "(1001, 9)\n",
      "{'user_id': 'User_33', 'agreement_score': 0.7146433041301627, 'has_majority': 799, 'has_alignment': 612, 'has_majority_and_alignment': 571, 'total_pairs': 1001}\n",
      "(300, 9)\n",
      "{'user_id': 'User_34', 'agreement_score': 0.75, 'has_majority': 248, 'has_alignment': 205, 'has_majority_and_alignment': 186, 'total_pairs': 300}\n",
      "(410, 9)\n",
      "{'user_id': 'User_35', 'agreement_score': 0.7630057803468208, 'has_majority': 346, 'has_alignment': 296, 'has_majority_and_alignment': 264, 'total_pairs': 410}\n",
      "(1055, 9)\n",
      "{'user_id': 'User_36', 'agreement_score': 0.7949886104783599, 'has_majority': 878, 'has_alignment': 797, 'has_majority_and_alignment': 698, 'total_pairs': 1055}\n",
      "(650, 9)\n",
      "{'user_id': 'User_37', 'agreement_score': 0.7346153846153847, 'has_majority': 520, 'has_alignment': 417, 'has_majority_and_alignment': 382, 'total_pairs': 650}\n",
      "(153, 9)\n",
      "{'user_id': 'User_38', 'agreement_score': 0.7666666666666667, 'has_majority': 120, 'has_alignment': 105, 'has_majority_and_alignment': 92, 'total_pairs': 153}\n",
      "(300, 9)\n",
      "{'user_id': 'User_39', 'agreement_score': 0.7444933920704846, 'has_majority': 227, 'has_alignment': 180, 'has_majority_and_alignment': 169, 'total_pairs': 300}\n",
      "(902, 9)\n",
      "{'user_id': 'User_40', 'agreement_score': 0.7466487935656837, 'has_majority': 746, 'has_alignment': 582, 'has_majority_and_alignment': 557, 'total_pairs': 902}\n",
      "(601, 9)\n",
      "{'user_id': 'User_41', 'agreement_score': 0.7875751503006012, 'has_majority': 499, 'has_alignment': 425, 'has_majority_and_alignment': 393, 'total_pairs': 601}\n",
      "(451, 9)\n",
      "{'user_id': 'User_42', 'agreement_score': 0.8498727735368957, 'has_majority': 393, 'has_alignment': 360, 'has_majority_and_alignment': 334, 'total_pairs': 451}\n",
      "(400, 9)\n",
      "{'user_id': 'User_43', 'agreement_score': 0.8170731707317073, 'has_majority': 328, 'has_alignment': 310, 'has_majority_and_alignment': 268, 'total_pairs': 400}\n",
      "(805, 9)\n",
      "{'user_id': 'User_44', 'agreement_score': 0.8278688524590164, 'has_majority': 610, 'has_alignment': 570, 'has_majority_and_alignment': 505, 'total_pairs': 805}\n",
      "(500, 9)\n",
      "{'user_id': 'User_45', 'agreement_score': 0.8269662921348314, 'has_majority': 445, 'has_alignment': 387, 'has_majority_and_alignment': 368, 'total_pairs': 500}\n",
      "(300, 9)\n",
      "{'user_id': 'User_46', 'agreement_score': 0.8266129032258065, 'has_majority': 248, 'has_alignment': 214, 'has_majority_and_alignment': 205, 'total_pairs': 300}\n",
      "(1300, 9)\n",
      "{'user_id': 'User_47', 'agreement_score': 0.8258064516129032, 'has_majority': 1085, 'has_alignment': 1003, 'has_majority_and_alignment': 896, 'total_pairs': 1300}\n",
      "(300, 9)\n",
      "{'user_id': 'User_48', 'agreement_score': 0.7581967213114754, 'has_majority': 244, 'has_alignment': 205, 'has_majority_and_alignment': 185, 'total_pairs': 300}\n",
      "(431, 9)\n",
      "{'user_id': 'User_49', 'agreement_score': 0.7308970099667774, 'has_majority': 301, 'has_alignment': 252, 'has_majority_and_alignment': 220, 'total_pairs': 431}\n",
      "(800, 9)\n",
      "{'user_id': 'User_50', 'agreement_score': 0.7574404761904762, 'has_majority': 672, 'has_alignment': 561, 'has_majority_and_alignment': 509, 'total_pairs': 800}\n",
      "(650, 9)\n",
      "{'user_id': 'User_51', 'agreement_score': 0.7617260787992496, 'has_majority': 533, 'has_alignment': 446, 'has_majority_and_alignment': 406, 'total_pairs': 650}\n",
      "(800, 9)\n",
      "{'user_id': 'User_52', 'agreement_score': 0.7748538011695907, 'has_majority': 684, 'has_alignment': 583, 'has_majority_and_alignment': 530, 'total_pairs': 800}\n",
      "(301, 9)\n",
      "{'user_id': 'User_53', 'agreement_score': 0.8, 'has_majority': 245, 'has_alignment': 206, 'has_majority_and_alignment': 196, 'total_pairs': 301}\n",
      "(354, 9)\n",
      "{'user_id': 'User_54', 'agreement_score': 0.7604166666666666, 'has_majority': 288, 'has_alignment': 247, 'has_majority_and_alignment': 219, 'total_pairs': 354}\n",
      "(300, 9)\n",
      "{'user_id': 'User_55', 'agreement_score': 0.8636363636363636, 'has_majority': 198, 'has_alignment': 225, 'has_majority_and_alignment': 171, 'total_pairs': 300}\n",
      "(606, 9)\n",
      "{'user_id': 'User_56', 'agreement_score': 0.7334669338677354, 'has_majority': 499, 'has_alignment': 414, 'has_majority_and_alignment': 366, 'total_pairs': 606}\n",
      "(300, 9)\n",
      "{'user_id': 'User_57', 'agreement_score': 0.7469879518072289, 'has_majority': 249, 'has_alignment': 194, 'has_majority_and_alignment': 186, 'total_pairs': 300}\n",
      "(303, 9)\n",
      "{'user_id': 'User_58', 'agreement_score': 0.7338709677419355, 'has_majority': 248, 'has_alignment': 196, 'has_majority_and_alignment': 182, 'total_pairs': 303}\n",
      "(151, 9)\n",
      "{'user_id': 'User_59', 'agreement_score': 0.7247706422018348, 'has_majority': 109, 'has_alignment': 102, 'has_majority_and_alignment': 79, 'total_pairs': 151}\n",
      "(450, 9)\n",
      "{'user_id': 'User_60', 'agreement_score': 0.7741116751269036, 'has_majority': 394, 'has_alignment': 348, 'has_majority_and_alignment': 305, 'total_pairs': 450}\n",
      "(300, 9)\n",
      "{'user_id': 'User_61', 'agreement_score': 0.7381974248927039, 'has_majority': 233, 'has_alignment': 186, 'has_majority_and_alignment': 172, 'total_pairs': 300}\n",
      "(700, 9)\n",
      "{'user_id': 'User_62', 'agreement_score': 0.7749077490774908, 'has_majority': 542, 'has_alignment': 451, 'has_majority_and_alignment': 420, 'total_pairs': 700}\n",
      "(400, 9)\n",
      "{'user_id': 'User_63', 'agreement_score': 0.7780979827089337, 'has_majority': 347, 'has_alignment': 301, 'has_majority_and_alignment': 270, 'total_pairs': 400}\n",
      "(600, 9)\n",
      "{'user_id': 'User_64', 'agreement_score': 0.7984031936127745, 'has_majority': 501, 'has_alignment': 430, 'has_majority_and_alignment': 400, 'total_pairs': 600}\n",
      "(305, 9)\n",
      "{'user_id': 'User_65', 'agreement_score': 0.7593984962406015, 'has_majority': 266, 'has_alignment': 215, 'has_majority_and_alignment': 202, 'total_pairs': 305}\n",
      "(260, 9)\n",
      "{'user_id': 'User_66', 'agreement_score': 0.8537735849056604, 'has_majority': 212, 'has_alignment': 199, 'has_majority_and_alignment': 181, 'total_pairs': 260}\n",
      "(370, 9)\n",
      "{'user_id': 'User_67', 'agreement_score': 0.8733766233766234, 'has_majority': 308, 'has_alignment': 302, 'has_majority_and_alignment': 269, 'total_pairs': 370}\n",
      "(601, 9)\n",
      "{'user_id': 'User_68', 'agreement_score': 0.7589641434262948, 'has_majority': 502, 'has_alignment': 430, 'has_majority_and_alignment': 381, 'total_pairs': 601}\n",
      "(300, 9)\n",
      "{'user_id': 'User_69', 'agreement_score': 0.7456896551724138, 'has_majority': 232, 'has_alignment': 183, 'has_majority_and_alignment': 173, 'total_pairs': 300}\n",
      "(301, 9)\n",
      "{'user_id': 'User_70', 'agreement_score': 0.8294573643410853, 'has_majority': 258, 'has_alignment': 226, 'has_majority_and_alignment': 214, 'total_pairs': 301}\n",
      "(601, 9)\n",
      "{'user_id': 'User_71', 'agreement_score': 0.7322175732217573, 'has_majority': 478, 'has_alignment': 368, 'has_majority_and_alignment': 350, 'total_pairs': 601}\n",
      "(300, 9)\n",
      "{'user_id': 'User_72', 'agreement_score': 0.8, 'has_majority': 255, 'has_alignment': 222, 'has_majority_and_alignment': 204, 'total_pairs': 300}\n",
      "(702, 9)\n",
      "{'user_id': 'User_73', 'agreement_score': 0.7665562913907285, 'has_majority': 604, 'has_alignment': 502, 'has_majority_and_alignment': 463, 'total_pairs': 702}\n",
      "(300, 9)\n",
      "{'user_id': 'User_74', 'agreement_score': 0.77431906614786, 'has_majority': 257, 'has_alignment': 216, 'has_majority_and_alignment': 199, 'total_pairs': 300}\n",
      "(1301, 9)\n",
      "{'user_id': 'User_75', 'agreement_score': 0.7732142857142857, 'has_majority': 1120, 'has_alignment': 946, 'has_majority_and_alignment': 866, 'total_pairs': 1301}\n",
      "(800, 9)\n",
      "{'user_id': 'User_76', 'agreement_score': 0.8146551724137931, 'has_majority': 696, 'has_alignment': 595, 'has_majority_and_alignment': 567, 'total_pairs': 800}\n",
      "(602, 9)\n",
      "{'user_id': 'User_77', 'agreement_score': 0.756, 'has_majority': 500, 'has_alignment': 427, 'has_majority_and_alignment': 378, 'total_pairs': 602}\n",
      "(300, 9)\n",
      "{'user_id': 'User_78', 'agreement_score': 0.7698412698412699, 'has_majority': 252, 'has_alignment': 204, 'has_majority_and_alignment': 194, 'total_pairs': 300}\n",
      "(350, 9)\n",
      "{'user_id': 'User_79', 'agreement_score': 0.7808219178082192, 'has_majority': 292, 'has_alignment': 246, 'has_majority_and_alignment': 228, 'total_pairs': 350}\n",
      "(300, 9)\n",
      "{'user_id': 'User_80', 'agreement_score': 0.8042553191489362, 'has_majority': 235, 'has_alignment': 202, 'has_majority_and_alignment': 189, 'total_pairs': 300}\n",
      "(300, 9)\n",
      "{'user_id': 'User_81', 'agreement_score': 0.7269076305220884, 'has_majority': 249, 'has_alignment': 203, 'has_majority_and_alignment': 181, 'total_pairs': 300}\n",
      "(300, 9)\n",
      "{'user_id': 'User_82', 'agreement_score': 0.8458498023715415, 'has_majority': 253, 'has_alignment': 231, 'has_majority_and_alignment': 214, 'total_pairs': 300}\n",
      "(401, 9)\n",
      "{'user_id': 'User_83', 'agreement_score': 0.8149466192170819, 'has_majority': 281, 'has_alignment': 250, 'has_majority_and_alignment': 229, 'total_pairs': 401}\n",
      "(400, 9)\n",
      "{'user_id': 'User_84', 'agreement_score': 0.7516129032258064, 'has_majority': 310, 'has_alignment': 260, 'has_majority_and_alignment': 233, 'total_pairs': 400}\n",
      "(651, 9)\n",
      "{'user_id': 'User_85', 'agreement_score': 0.7549909255898367, 'has_majority': 551, 'has_alignment': 449, 'has_majority_and_alignment': 416, 'total_pairs': 651}\n",
      "(601, 9)\n",
      "{'user_id': 'User_86', 'agreement_score': 0.779559118236473, 'has_majority': 499, 'has_alignment': 437, 'has_majority_and_alignment': 389, 'total_pairs': 601}\n",
      "(422, 9)\n",
      "{'user_id': 'User_87', 'agreement_score': 0.7461300309597523, 'has_majority': 323, 'has_alignment': 276, 'has_majority_and_alignment': 241, 'total_pairs': 422}\n",
      "(300, 9)\n",
      "{'user_id': 'User_88', 'agreement_score': 0.7315175097276264, 'has_majority': 257, 'has_alignment': 206, 'has_majority_and_alignment': 188, 'total_pairs': 300}\n",
      "(304, 9)\n",
      "{'user_id': 'User_89', 'agreement_score': 0.720164609053498, 'has_majority': 243, 'has_alignment': 194, 'has_majority_and_alignment': 175, 'total_pairs': 304}\n",
      "(300, 9)\n",
      "{'user_id': 'User_90', 'agreement_score': 0.676, 'has_majority': 250, 'has_alignment': 195, 'has_majority_and_alignment': 169, 'total_pairs': 300}\n",
      "(300, 9)\n",
      "{'user_id': 'User_91', 'agreement_score': 0.765625, 'has_majority': 256, 'has_alignment': 202, 'has_majority_and_alignment': 196, 'total_pairs': 300}\n",
      "(300, 9)\n",
      "{'user_id': 'User_92', 'agreement_score': 0.7773279352226721, 'has_majority': 247, 'has_alignment': 211, 'has_majority_and_alignment': 192, 'total_pairs': 300}\n",
      "(154, 9)\n",
      "{'user_id': 'User_93', 'agreement_score': 0.7786885245901639, 'has_majority': 122, 'has_alignment': 109, 'has_majority_and_alignment': 95, 'total_pairs': 154}\n",
      "(300, 9)\n",
      "{'user_id': 'User_94', 'agreement_score': 0.7754237288135594, 'has_majority': 236, 'has_alignment': 200, 'has_majority_and_alignment': 183, 'total_pairs': 300}\n",
      "(300, 9)\n",
      "{'user_id': 'User_95', 'agreement_score': 0.7394957983193278, 'has_majority': 238, 'has_alignment': 196, 'has_majority_and_alignment': 176, 'total_pairs': 300}\n",
      "(300, 9)\n",
      "{'user_id': 'User_96', 'agreement_score': 0.7751004016064257, 'has_majority': 249, 'has_alignment': 204, 'has_majority_and_alignment': 193, 'total_pairs': 300}\n",
      "(300, 9)\n",
      "{'user_id': 'User_97', 'agreement_score': 0.7982832618025751, 'has_majority': 233, 'has_alignment': 215, 'has_majority_and_alignment': 186, 'total_pairs': 300}\n",
      "(300, 9)\n",
      "{'user_id': 'User_98', 'agreement_score': 0.7510729613733905, 'has_majority': 233, 'has_alignment': 189, 'has_majority_and_alignment': 175, 'total_pairs': 300}\n",
      "(307, 9)\n",
      "{'user_id': 'User_99', 'agreement_score': 0.8509803921568627, 'has_majority': 255, 'has_alignment': 250, 'has_majority_and_alignment': 217, 'total_pairs': 307}\n",
      "(800, 9)\n",
      "{'user_id': 'User_100', 'agreement_score': 0.7814871016691958, 'has_majority': 659, 'has_alignment': 579, 'has_majority_and_alignment': 515, 'total_pairs': 800}\n",
      "(300, 9)\n",
      "{'user_id': 'User_101', 'agreement_score': 0.7903225806451613, 'has_majority': 248, 'has_alignment': 206, 'has_majority_and_alignment': 196, 'total_pairs': 300}\n",
      "(403, 9)\n",
      "{'user_id': 'User_102', 'agreement_score': 0.8044692737430168, 'has_majority': 358, 'has_alignment': 297, 'has_majority_and_alignment': 288, 'total_pairs': 403}\n",
      "(300, 9)\n",
      "{'user_id': 'User_103', 'agreement_score': 0.7984496124031008, 'has_majority': 258, 'has_alignment': 225, 'has_majority_and_alignment': 206, 'total_pairs': 300}\n",
      "(151, 9)\n",
      "{'user_id': 'User_104', 'agreement_score': 0.9784172661870504, 'has_majority': 139, 'has_alignment': 142, 'has_majority_and_alignment': 136, 'total_pairs': 151}\n",
      "(400, 9)\n",
      "{'user_id': 'User_105', 'agreement_score': 0.8186968838526912, 'has_majority': 353, 'has_alignment': 305, 'has_majority_and_alignment': 289, 'total_pairs': 400}\n",
      "(300, 9)\n",
      "{'user_id': 'User_106', 'agreement_score': 0.7945205479452054, 'has_majority': 219, 'has_alignment': 208, 'has_majority_and_alignment': 174, 'total_pairs': 300}\n",
      "(300, 9)\n",
      "{'user_id': 'User_107', 'agreement_score': 0.7808764940239044, 'has_majority': 251, 'has_alignment': 222, 'has_majority_and_alignment': 196, 'total_pairs': 300}\n",
      "(300, 9)\n",
      "{'user_id': 'User_108', 'agreement_score': 0.7711864406779662, 'has_majority': 236, 'has_alignment': 215, 'has_majority_and_alignment': 182, 'total_pairs': 300}\n",
      "(200, 9)\n",
      "{'user_id': 'User_109', 'agreement_score': 0.7852760736196319, 'has_majority': 163, 'has_alignment': 141, 'has_majority_and_alignment': 128, 'total_pairs': 200}\n",
      "(300, 9)\n",
      "{'user_id': 'User_110', 'agreement_score': 0.7991967871485943, 'has_majority': 249, 'has_alignment': 219, 'has_majority_and_alignment': 199, 'total_pairs': 300}\n",
      "(301, 9)\n",
      "{'user_id': 'User_111', 'agreement_score': 0.7426160337552743, 'has_majority': 237, 'has_alignment': 198, 'has_majority_and_alignment': 176, 'total_pairs': 301}\n",
      "(300, 9)\n",
      "{'user_id': 'User_112', 'agreement_score': 0.7161016949152542, 'has_majority': 236, 'has_alignment': 189, 'has_majority_and_alignment': 169, 'total_pairs': 300}\n",
      "(300, 9)\n",
      "{'user_id': 'User_113', 'agreement_score': 0.7656903765690377, 'has_majority': 239, 'has_alignment': 201, 'has_majority_and_alignment': 183, 'total_pairs': 300}\n",
      "(78, 9)\n",
      "{'user_id': 'User_114', 'agreement_score': 0.8307692307692308, 'has_majority': 65, 'has_alignment': 59, 'has_majority_and_alignment': 54, 'total_pairs': 78}\n",
      "(300, 9)\n",
      "{'user_id': 'User_115', 'agreement_score': 0.639269406392694, 'has_majority': 219, 'has_alignment': 153, 'has_majority_and_alignment': 140, 'total_pairs': 300}\n",
      "(451, 9)\n",
      "{'user_id': 'User_116', 'agreement_score': 0.7564766839378239, 'has_majority': 386, 'has_alignment': 324, 'has_majority_and_alignment': 292, 'total_pairs': 451}\n",
      "(300, 9)\n",
      "{'user_id': 'User_117', 'agreement_score': 0.7928286852589641, 'has_majority': 251, 'has_alignment': 224, 'has_majority_and_alignment': 199, 'total_pairs': 300}\n",
      "(300, 9)\n",
      "{'user_id': 'User_118', 'agreement_score': 0.7754237288135594, 'has_majority': 236, 'has_alignment': 209, 'has_majority_and_alignment': 183, 'total_pairs': 300}\n",
      "(300, 9)\n",
      "{'user_id': 'User_119', 'agreement_score': 0.7890295358649789, 'has_majority': 237, 'has_alignment': 213, 'has_majority_and_alignment': 187, 'total_pairs': 300}\n",
      "(621, 9)\n",
      "{'user_id': 'User_120', 'agreement_score': 0.8385214007782101, 'has_majority': 514, 'has_alignment': 483, 'has_majority_and_alignment': 431, 'total_pairs': 621}\n",
      "(152, 9)\n",
      "{'user_id': 'User_121', 'agreement_score': 0.6507936507936508, 'has_majority': 126, 'has_alignment': 88, 'has_majority_and_alignment': 82, 'total_pairs': 152}\n",
      "(450, 9)\n",
      "{'user_id': 'User_122', 'agreement_score': 0.8021978021978022, 'has_majority': 364, 'has_alignment': 331, 'has_majority_and_alignment': 292, 'total_pairs': 450}\n",
      "(302, 9)\n",
      "{'user_id': 'User_123', 'agreement_score': 0.753968253968254, 'has_majority': 252, 'has_alignment': 202, 'has_majority_and_alignment': 190, 'total_pairs': 302}\n",
      "(351, 9)\n",
      "{'user_id': 'User_124', 'agreement_score': 0.8188976377952756, 'has_majority': 254, 'has_alignment': 241, 'has_majority_and_alignment': 208, 'total_pairs': 351}\n",
      "(302, 9)\n",
      "{'user_id': 'User_125', 'agreement_score': 0.7489878542510121, 'has_majority': 247, 'has_alignment': 215, 'has_majority_and_alignment': 185, 'total_pairs': 302}\n",
      "(300, 9)\n",
      "{'user_id': 'User_126', 'agreement_score': 0.7663934426229508, 'has_majority': 244, 'has_alignment': 200, 'has_majority_and_alignment': 187, 'total_pairs': 300}\n",
      "(300, 9)\n",
      "{'user_id': 'User_127', 'agreement_score': 0.772, 'has_majority': 250, 'has_alignment': 207, 'has_majority_and_alignment': 193, 'total_pairs': 300}\n",
      "(505, 9)\n",
      "{'user_id': 'User_128', 'agreement_score': 0.7099236641221374, 'has_majority': 393, 'has_alignment': 301, 'has_majority_and_alignment': 279, 'total_pairs': 505}\n",
      "(859, 9)\n",
      "{'user_id': 'User_129', 'agreement_score': 0.7510668563300142, 'has_majority': 703, 'has_alignment': 603, 'has_majority_and_alignment': 528, 'total_pairs': 859}\n",
      "(300, 9)\n",
      "{'user_id': 'User_130', 'agreement_score': 0.7679324894514767, 'has_majority': 237, 'has_alignment': 194, 'has_majority_and_alignment': 182, 'total_pairs': 300}\n",
      "(300, 9)\n",
      "{'user_id': 'User_131', 'agreement_score': 0.7654320987654321, 'has_majority': 243, 'has_alignment': 206, 'has_majority_and_alignment': 186, 'total_pairs': 300}\n",
      "(301, 9)\n",
      "{'user_id': 'User_132', 'agreement_score': 0.5770925110132159, 'has_majority': 227, 'has_alignment': 149, 'has_majority_and_alignment': 131, 'total_pairs': 301}\n",
      "(350, 9)\n",
      "{'user_id': 'User_133', 'agreement_score': 0.5992217898832685, 'has_majority': 257, 'has_alignment': 171, 'has_majority_and_alignment': 154, 'total_pairs': 350}\n",
      "(300, 9)\n",
      "{'user_id': 'User_134', 'agreement_score': 0.7464788732394366, 'has_majority': 213, 'has_alignment': 178, 'has_majority_and_alignment': 159, 'total_pairs': 300}\n",
      "(307, 9)\n",
      "{'user_id': 'User_135', 'agreement_score': 0.7160493827160493, 'has_majority': 243, 'has_alignment': 191, 'has_majority_and_alignment': 174, 'total_pairs': 307}\n",
      "(350, 9)\n",
      "{'user_id': 'User_136', 'agreement_score': 0.7984790874524715, 'has_majority': 263, 'has_alignment': 254, 'has_majority_and_alignment': 210, 'total_pairs': 350}\n",
      "(603, 9)\n",
      "{'user_id': 'User_137', 'agreement_score': 0.764344262295082, 'has_majority': 488, 'has_alignment': 417, 'has_majority_and_alignment': 373, 'total_pairs': 603}\n",
      "(505, 9)\n",
      "{'user_id': 'User_138', 'agreement_score': 0.8023809523809524, 'has_majority': 420, 'has_alignment': 381, 'has_majority_and_alignment': 337, 'total_pairs': 505}\n",
      "(160, 9)\n",
      "{'user_id': 'User_139', 'agreement_score': 0.6744186046511628, 'has_majority': 129, 'has_alignment': 94, 'has_majority_and_alignment': 87, 'total_pairs': 160}\n",
      "(603, 9)\n",
      "{'user_id': 'User_140', 'agreement_score': 0.710239651416122, 'has_majority': 459, 'has_alignment': 368, 'has_majority_and_alignment': 326, 'total_pairs': 603}\n",
      "(650, 9)\n",
      "{'user_id': 'User_141', 'agreement_score': 0.7904761904761904, 'has_majority': 525, 'has_alignment': 481, 'has_majority_and_alignment': 415, 'total_pairs': 650}\n",
      "(300, 9)\n",
      "{'user_id': 'User_142', 'agreement_score': 0.7743362831858407, 'has_majority': 226, 'has_alignment': 199, 'has_majority_and_alignment': 175, 'total_pairs': 300}\n",
      "(300, 9)\n",
      "{'user_id': 'User_143', 'agreement_score': 0.7773109243697479, 'has_majority': 238, 'has_alignment': 224, 'has_majority_and_alignment': 185, 'total_pairs': 300}\n",
      "(401, 9)\n",
      "{'user_id': 'User_144', 'agreement_score': 0.7469512195121951, 'has_majority': 328, 'has_alignment': 267, 'has_majority_and_alignment': 245, 'total_pairs': 401}\n",
      "(402, 9)\n",
      "{'user_id': 'User_145', 'agreement_score': 0.7817109144542773, 'has_majority': 339, 'has_alignment': 289, 'has_majority_and_alignment': 265, 'total_pairs': 402}\n",
      "(200, 9)\n",
      "{'user_id': 'User_146', 'agreement_score': 0.9395973154362416, 'has_majority': 149, 'has_alignment': 164, 'has_majority_and_alignment': 140, 'total_pairs': 200}\n",
      "(79, 9)\n",
      "{'user_id': 'User_147', 'agreement_score': 0.8571428571428571, 'has_majority': 63, 'has_alignment': 60, 'has_majority_and_alignment': 54, 'total_pairs': 79}\n",
      "(300, 9)\n",
      "{'user_id': 'User_148', 'agreement_score': 0.8902439024390244, 'has_majority': 246, 'has_alignment': 236, 'has_majority_and_alignment': 219, 'total_pairs': 300}\n",
      "(300, 9)\n",
      "{'user_id': 'User_149', 'agreement_score': 0.7250996015936255, 'has_majority': 251, 'has_alignment': 203, 'has_majority_and_alignment': 182, 'total_pairs': 300}\n",
      "(202, 9)\n",
      "{'user_id': 'User_150', 'agreement_score': 0.8654970760233918, 'has_majority': 171, 'has_alignment': 163, 'has_majority_and_alignment': 148, 'total_pairs': 202}\n",
      "(300, 9)\n",
      "{'user_id': 'User_151', 'agreement_score': 0.9925925925925926, 'has_majority': 270, 'has_alignment': 279, 'has_majority_and_alignment': 268, 'total_pairs': 300}\n"
     ]
    }
   ],
   "source": [
    "# get agreement score for each user\n",
    "# for each user, get the proportion of pairs where a user agrees with the majority\n",
    "\n",
    "mapping_relevance = {\n",
    "    '0_NOT_RELEVANT': 0,\n",
    "    '1_TOPIC_RELEVANT_DOES_NOT_ANSWER': 1,\n",
    "    '2_GOOD_ANSWER': 2,\n",
    "    '3_PERFECT_ANSWER': 3\n",
    "}\n",
    "\n",
    "def has_majority_coannot(judgements):\n",
    "    has_majority = 0\n",
    "    if len(judgements['relevance_class_coannot']) == 1:\n",
    "        has_majority = 1\n",
    "    elif len(judgements['relevance_class_coannot']) == 2:\n",
    "        # check if both judgements are the same\n",
    "        has_majority = int(judgements['relevance_class_coannot'].nunique() == 1)\n",
    "    else:\n",
    "        # check if the majority is at least 2\n",
    "        has_majority = int(judgements['relevance_class_coannot'].value_counts().max() >= 2)\n",
    "    return has_majority\n",
    "    \n",
    "def has_alignment_with_majority(judgements):\n",
    "    annot_relevance_class = judgements['relevance_class_annot'].value_counts().idxmax()\n",
    "    coannot_relenvance_class = judgements['relevance_class_coannot'].value_counts().idxmax()\n",
    "    aligns_with_majority = annot_relevance_class == coannot_relenvance_class\n",
    "    return int(aligns_with_majority)\n",
    "\n",
    "def get_agreement_score(df_judgements):\n",
    "    # get unique users\n",
    "    annotators = df_judgements['user_id'].unique()\n",
    "    # get all documents labeled by user\n",
    "    total_pairs_with_majority = 0\n",
    "    total_pairs_with_alignment = 0\n",
    "    total_pairs_with_majority_and_alignment = 0\n",
    "    total_pairs = 0\n",
    "    df_user_agreement = pd.DataFrame(columns=['user_id', 'agreement_score', 'has_majority', 'has_alignment', 'has_majority_and_alignment', 'total_pairs'])\n",
    "    for annotator in annotators:\n",
    "        # get all judgements labeled by user\n",
    "        df_annot_judgements = df_judgements[df_judgements['user_id'] == annotator]\n",
    "        df_coannot_judgements = df_judgements[['query_id', 'doc_id', 'user_id', 'relevance_class']].merge(df_annot_judgements[['query_id', 'doc_id', 'user_id', 'relevance_class']], on=['query_id', 'doc_id'], suffixes=('_coannot', '_annot'))\n",
    "        df_coannot = df_coannot_judgements.groupby(by = ['query_id', 'doc_id']).count().reset_index()\n",
    "\n",
    "        df_coannot['has_majority'] = df_coannot_judgements.groupby(by = ['query_id', 'doc_id']).apply(has_majority_coannot).reset_index()[0]\n",
    "        df_coannot['alignment_with_majority'] = df_coannot_judgements.groupby(by = ['query_id', 'doc_id']).apply(has_alignment_with_majority).reset_index()[0]\n",
    "        df_coannot['has_majority_and_alignment'] = df_coannot['has_majority'] & df_coannot['alignment_with_majority']\n",
    "        \n",
    "        total_pairs_with_majority += df_coannot['has_majority'].sum()\n",
    "        total_pairs_with_alignment += df_coannot['alignment_with_majority'].sum()\n",
    "        total_pairs_with_majority_and_alignment += df_coannot['has_majority_and_alignment'].sum()\n",
    "        total_pairs += df_annot_judgements.shape[0]\n",
    "\n",
    "        agreement_score_user = df_coannot['has_majority_and_alignment'].sum() / df_coannot['has_majority'].sum()\n",
    "        user_row = {'user_id': annotator,\n",
    "                   'agreement_score': agreement_score_user,\n",
    "                   'has_majority': df_coannot['has_majority'].sum(),\n",
    "                   'has_alignment': df_coannot['alignment_with_majority'].sum(),\n",
    "                   'has_majority_and_alignment': df_coannot['has_majority_and_alignment'].sum(),\n",
    "                   'total_pairs': df_annot_judgements.shape[0], \n",
    "                   }\n",
    "        df_user_agreement = df_user_agreement.append(user_row, ignore_index=True)\n",
    "\n",
    "        print(df_coannot.shape)\n",
    "        print(user_row)\n",
    "        \n",
    "    return df_user_agreement, total_pairs_with_majority, total_pairs_with_alignment, total_pairs_with_majority_and_alignment, total_pairs\n",
    "\n",
    "# q1 - d1 (j1 - a1, j2 - a4, j3 - a5), d2 (j4, j5, j6), d3 (j7, j8, j9);\n",
    "\n",
    "\n",
    "df_user_agreement, total_pairs_with_majority, total_pairs_with_alignment, total_pairs_with_majority_and_alignment, total_pairs = get_agreement_score(df_raw_judgements)"
   ]
  },
  {
   "cell_type": "code",
   "execution_count": 24,
   "metadata": {},
   "outputs": [],
   "source": [
    "def relevance_present(judgements):\n",
    "    return judgements[judgements['relevance_character_ranges'] != '<no ranges selected>'].shape[0] / judgements.shape[0]\n",
    "\n",
    "def percentage_relevance_classes(judgements):\n",
    "    return judgements['relevance_class'].value_counts()\n",
    "\n",
    "df_relevance_present = df_raw_judgements.groupby(by = ['user_id']).apply(relevance_present).reset_index()\n",
    "df_percentage_relevance_classes = df_raw_judgements.groupby(by = ['user_id']).apply(percentage_relevance_classes).reset_index()\n",
    "# long to wide\n",
    "df_percentage_relevance_classes = df_percentage_relevance_classes.pivot(index='user_id', columns='level_1', values='relevance_class').reset_index()\n",
    "df_percentage_relevance_classes.fillna(0, inplace=True)\n",
    "# convert to int\n",
    "df_percentage_relevance_classes[['0_NOT_RELEVANT', '1_TOPIC_RELEVANT_DOES_NOT_ANSWER', '2_GOOD_ANSWER', '3_PERFECT_ANSWER']] = df_percentage_relevance_classes[['0_NOT_RELEVANT', '1_TOPIC_RELEVANT_DOES_NOT_ANSWER', '2_GOOD_ANSWER', '3_PERFECT_ANSWER']].astype(int)\n",
    "# normalize by sum of all classes\n",
    "df_percentage_relevance_classes[['0_NOT_RELEVANT', '1_TOPIC_RELEVANT_DOES_NOT_ANSWER', '2_GOOD_ANSWER', '3_PERFECT_ANSWER']] = df_percentage_relevance_classes[['0_NOT_RELEVANT', '1_TOPIC_RELEVANT_DOES_NOT_ANSWER', '2_GOOD_ANSWER', '3_PERFECT_ANSWER']].div(df_percentage_relevance_classes[['0_NOT_RELEVANT', '1_TOPIC_RELEVANT_DOES_NOT_ANSWER', '2_GOOD_ANSWER', '3_PERFECT_ANSWER']].sum(axis=1), axis=0)\n",
    "\n",
    "df_users = df_raw_judgements.groupby(by = ['user_id']).agg({'id': 'count', 'duration_to_judge': 'mean'}).reset_index()\n",
    "df_users['duration_to_judge'] = df_users['duration_to_judge'] / 1000 # convert to seconds\n",
    "df_users.columns = ['user_id', 'judgements_count', 'mean_duration_to_judge']\n",
    "\n",
    "# merge\n",
    "df_users = df_users.merge(df_relevance_present, on='user_id')\n",
    "df_users = df_users.merge(df_percentage_relevance_classes, on='user_id')\n",
    "df_users = df_users.merge(df_user_agreement, on='user_id')\n",
    "# normalize scores with min-max\n",
    "df_users['agreement_score'] = (df_users['agreement_score'] - df_users['agreement_score'].min()) / (df_users['agreement_score'].max() - df_users['agreement_score'].min())\n",
    "df_users.drop(columns=[0], inplace=True)"
   ]
  },
  {
   "cell_type": "code",
   "execution_count": 25,
   "metadata": {},
   "outputs": [],
   "source": [
    "# create quartiles for duration to judge\n",
    "df_users['mean_duration_to_judge_bins'] = pd.qcut(df_users['mean_duration_to_judge'], q=4, labels=['Q1', 'Q2', 'Q3', 'Q4'])\n",
    "# create quartiles for judgements count\n",
    "df_users['judgements_count_bins'] = pd.qcut(df_users['judgements_count'], q=4, labels=['Q1', 'Q2', 'Q3', 'Q4'])\n",
    "# create quartiles for agreement score\n",
    "df_users['agreement_score_bins'] = pd.qcut(df_users['agreement_score'], q=4, labels=['Q1', 'Q2', 'Q3', 'Q4'])\n"
   ]
  },
  {
   "cell_type": "code",
   "execution_count": 26,
   "metadata": {},
   "outputs": [
    {
     "data": {
      "text/plain": [
       "<AxesSubplot:xlabel='agreement_score', ylabel='Count'>"
      ]
     },
     "execution_count": 26,
     "metadata": {},
     "output_type": "execute_result"
    },
    {
     "data": {
      "image/png": "[encoded data removed]",
      "text/plain": [
       "<Figure size 432x288 with 1 Axes>"
      ]
     },
     "metadata": {
      "needs_background": "light"
     },
     "output_type": "display_data"
    }
   ],
   "source": [
    "sns.histplot(df_users['agreement_score'], bins = 20)"
   ]
  },
  {
   "cell_type": "code",
   "execution_count": 27,
   "metadata": {},
   "outputs": [
    {
     "data": {
      "text/plain": [
       "<AxesSubplot:xlabel='judgements_count', ylabel='Count'>"
      ]
     },
     "execution_count": 27,
     "metadata": {},
     "output_type": "execute_result"
    },
    {
     "data": {
      "image/png": "[encoded data removed]",
      "text/plain": [
       "<Figure size 432x288 with 1 Axes>"
      ]
     },
     "metadata": {
      "needs_background": "light"
     },
     "output_type": "display_data"
    }
   ],
   "source": [
    "sns.histplot(df_users['judgements_count'],  bins = 20)"
   ]
  },
  {
   "cell_type": "code",
   "execution_count": 28,
   "metadata": {},
   "outputs": [
    {
     "data": {
      "text/plain": [
       "<AxesSubplot:xlabel='mean_duration_to_judge', ylabel='Count'>"
      ]
     },
     "execution_count": 28,
     "metadata": {},
     "output_type": "execute_result"
    },
    {
     "data": {
      "image/png": "[encoded data removed]",
      "text/plain": [
       "<Figure size 432x288 with 1 Axes>"
      ]
     },
     "metadata": {
      "needs_background": "light"
     },
     "output_type": "display_data"
    }
   ],
   "source": [
    "sns.histplot(df_users['mean_duration_to_judge'],  bins = 20)"
   ]
  },
  {
   "cell_type": "code",
   "execution_count": 29,
   "metadata": {},
   "outputs": [
    {
     "data": {
      "text/plain": [
       "<AxesSubplot:xlabel='agreement_score_bins', ylabel='mean_duration_to_judge'>"
      ]
     },
     "execution_count": 29,
     "metadata": {},
     "output_type": "execute_result"
    },
    {
     "data": {
      "image/png": "[encoded data removed]",
      "text/plain": [
       "<Figure size 432x288 with 1 Axes>"
      ]
     },
     "metadata": {
      "needs_background": "light"
     },
     "output_type": "display_data"
    }
   ],
   "source": [
    "sns.boxplot(x='agreement_score_bins', y='mean_duration_to_judge', data=df_users)\n",
    "# better annotators take more time to judge!"
   ]
  },
  {
   "cell_type": "code",
   "execution_count": 30,
   "metadata": {},
   "outputs": [
    {
     "data": {
      "text/plain": [
       "<AxesSubplot:xlabel='agreement_score_bins', ylabel='judgements_count'>"
      ]
     },
     "execution_count": 30,
     "metadata": {},
     "output_type": "execute_result"
    },
    {
     "data": {
      "image/png": "[encoded data removed]",
      "text/plain": [
       "<Figure size 432x288 with 1 Axes>"
      ]
     },
     "metadata": {
      "needs_background": "light"
     },
     "output_type": "display_data"
    }
   ],
   "source": [
    "sns.boxplot(x='agreement_score_bins', y='judgements_count', data=df_users)\n",
    "# no major differences in agreement score based on number of judgements"
   ]
  },
  {
   "cell_type": "code",
   "execution_count": 31,
   "metadata": {},
   "outputs": [
    {
     "data": {
      "text/plain": [
       "Text(0.5, 1.0, 'Distribution of relevance classes proportions')"
      ]
     },
     "execution_count": 31,
     "metadata": {},
     "output_type": "execute_result"
    },
    {
     "data": {
      "image/png": "[encoded data removed]",
      "text/plain": [
       "<Figure size 432x288 with 1 Axes>"
      ]
     },
     "metadata": {
      "needs_background": "light"
     },
     "output_type": "display_data"
    }
   ],
   "source": [
    "# plot boxplots for 4 columns\n",
    "sns.boxplot(data=df_percentage_relevance_classes, orient='h')\n",
    "plt.title('Distribution of relevance classes proportions')"
   ]
  },
  {
   "cell_type": "code",
   "execution_count": 32,
   "metadata": {},
   "outputs": [
    {
     "data": {
      "text/plain": [
       "<AxesSubplot:ylabel='Frequency'>"
      ]
     },
     "execution_count": 32,
     "metadata": {},
     "output_type": "execute_result"
    },
    {
     "data": {
      "image/png": "[encoded data removed]",
      "text/plain": [
       "<Figure size 432x288 with 1 Axes>"
      ]
     },
     "metadata": {
      "needs_background": "light"
     },
     "output_type": "display_data"
    }
   ],
   "source": [
    "df_user_agreement['total_pairs'].plot(kind = 'hist', bins=20)"
   ]
  },
  {
   "cell_type": "markdown",
   "metadata": {},
   "source": [
    "## Get weighted judgements based on agreement score of annotators"
   ]
  },
  {
   "cell_type": "code",
   "execution_count": 33,
   "metadata": {},
   "outputs": [],
   "source": [
    "df_raw_judgements = df_raw_judgements.merge(df_users[['user_id', 'agreement_score']], on='user_id')"
   ]
  },
  {
   "cell_type": "code",
   "execution_count": 34,
   "metadata": {},
   "outputs": [],
   "source": [
    "# del df_raw_judgements['agreement_score_y']\n",
    "df_raw_judgements.rename(columns={'agreement_score_x': 'agreement_score'}, inplace=True)"
   ]
  },
  {
   "cell_type": "code",
   "execution_count": 35,
   "metadata": {},
   "outputs": [
    {
     "data": {
      "text/plain": [
       "'<no ranges selected>'"
      ]
     },
     "execution_count": 35,
     "metadata": {},
     "output_type": "execute_result"
    }
   ],
   "source": [
    "df_raw_judgements['relevance_character_ranges'].value_counts().idxmax()"
   ]
  },
  {
   "cell_type": "code",
   "execution_count": 36,
   "metadata": {},
   "outputs": [],
   "source": [
    "mapping_relevance = {\n",
    "    '0_NOT_RELEVANT': 0,\n",
    "    '1_TOPIC_RELEVANT_DOES_NOT_ANSWER': 0,\n",
    "    '2_GOOD_ANSWER': 1,\n",
    "    '3_PERFECT_ANSWER': 1\n",
    "}\n",
    "\n",
    "\n",
    "\n",
    "def get_weighted_labels(judgements, mapping_relevance):\n",
    "    judgements_binary = list(judgements['relevance_class'].map(mapping_relevance))\n",
    "    has_majority = 0\n",
    "    is_contradictory = int(0 in judgements_binary and 1 in judgements_binary)\n",
    "\n",
    "    if len(judgements['relevance_class']) == 1:\n",
    "        has_majority = 1\n",
    "    elif len(judgements['relevance_class']) == 2:\n",
    "        # check if both judgements are the same\n",
    "        has_majority = int(judgements['relevance_class'].nunique() == 1)\n",
    "    else:\n",
    "        # check if the majority is at least 2\n",
    "        has_majority = int(judgements['relevance_class'].value_counts().max() >= 2)\n",
    "    ranges_provided = {'0_NOT_RELEVANT': 0, '1_TOPIC_RELEVANT_DOES_NOT_ANSWER': 0, '2_GOOD_ANSWER': 0, '3_PERFECT_ANSWER': 0}\n",
    "    for index, row in judgements.iterrows():\n",
    "        if row['relevance_character_ranges'] != '<no ranges selected>':\n",
    "            ranges_provided[row['relevance_class']] += 1\n",
    "    ranges_provided_flag = sum(ranges_provided.values()) > 0\n",
    "\n",
    "    # get first digit of the string in the column relevance_class\n",
    "    if has_majority: # majority achieved in judgements: (j1, j1, j1) or (j1, j1, j2)\n",
    "        if is_contradictory: # if there is a contradiction in judgements [j0, j1] vs [j2, j3]: (j0, j1, j2) or (j1, j3, j3)\n",
    "            if ranges_provided_flag: # if there are ranges provided, return the relevance class with the highest count of judgements with ranges provided\n",
    "                return max(ranges_provided, key=ranges_provided.get)\n",
    "            else: # if there are no ranges provided, return the simple majority - return the simple majority\n",
    "                return judgements['relevance_class'].value_counts().idxmax() \n",
    "        else: # if there is no contradiction in judgements: (j0, j1, j1) or (j2, j2, j2) or (j2, j3, j3) - return the simple majority\n",
    "            return judgements['relevance_class'].value_counts().idxmax()\n",
    "    else: # majority not achieved in judgements: (j0, j1, j2) or (j0, j1, j3) - return the agreement weighted majority\n",
    "        # return judgements.groupby(by = ['relevance_class']).apply(lambda x: x['agreement_score'].sum()/ len(x['agreement_score'])).idxmax()\n",
    "        return judgements.groupby(by = ['relevance_class']).apply(lambda x: x['agreement_score'].sum()).idxmax()\n",
    "\n",
    "def get_majority_labels(judgements):\n",
    "    return judgements['relevance_class'].value_counts().idxmax()\n"
   ]
  },
  {
   "cell_type": "code",
   "execution_count": 178,
   "metadata": {},
   "outputs": [],
   "source": [
    "labels_simple_majority = df_raw_judgements.groupby(by = ['query_id', 'doc_id']).apply(get_majority_labels).reset_index()"
   ]
  },
  {
   "cell_type": "code",
   "execution_count": 179,
   "metadata": {},
   "outputs": [],
   "source": [
    "# do majority voting\n",
    "labels_weighted_majority = df_raw_judgements.groupby(by = ['query_id', 'doc_id']).apply(lambda x: get_weighted_labels(x, mapping_relevance)).reset_index()"
   ]
  },
  {
   "cell_type": "code",
   "execution_count": 180,
   "metadata": {},
   "outputs": [],
   "source": [
    "# save labels_weighted_majority as tsv file\n",
    "labels_weighted_majority.to_csv('../data/Part-1/fira-22.judgements-anonymized-aggregated.tsv', sep='\\t', index=False)"
   ]
  },
  {
   "cell_type": "code",
   "execution_count": 181,
   "metadata": {},
   "outputs": [],
   "source": [
    "# apply dict to map relevance classes to first digit int\n",
    "labels_weighted_majority.columns = ['query_id', 'doc_id', 'relevance_class']\n",
    "dict_rel = {\n",
    "    '0_NOT_RELEVANT': 0,\n",
    "    '1_TOPIC_RELEVANT_DOES_NOT_ANSWER': 1,\n",
    "    '2_GOOD_ANSWER': 2,\n",
    "    '3_PERFECT_ANSWER': 3\n",
    "}\n",
    "\n",
    "labels_weighted_majority['relevance_class'] = labels_weighted_majority['relevance_class'].map(dict_rel)\n",
    "\n",
    "labels_weighted_majority['place_holder'] = 'Q0'\n",
    "\n",
    "# reorder columns: query_id, place_holder, doc_id, relevance_class\n",
    "\n",
    "labels_weighted_majority = labels_weighted_majority[['query_id', 'place_holder', 'doc_id', 'relevance_class']]\n",
    "\n",
    "# save labels_weighted_majority as tsv file\n",
    "labels_weighted_majority.to_csv('../data/Part-1/fira-22.judgements-anonymized-aggregated_v1.tsv', sep=' ', index=False, header=False)"
   ]
  },
  {
   "cell_type": "markdown",
   "metadata": {},
   "source": [
    "## Analysis of differences between baseline and weighted"
   ]
  },
  {
   "cell_type": "code",
   "execution_count": 182,
   "metadata": {},
   "outputs": [],
   "source": [
    "del labels_weighted_majority['place_holder']"
   ]
  },
  {
   "cell_type": "code",
   "execution_count": 183,
   "metadata": {},
   "outputs": [],
   "source": [
    "df_comparison = labels_simple_majority.merge(labels_weighted_majority, on=['query_id', 'doc_id'])\n",
    "df_comparison.columns = ['query_id', 'doc_id', 'simple_majority', 'weighted_majority']\n",
    "\n",
    "map_number = {\n",
    "    '0_NOT_RELEVANT': 0,\n",
    "    '1_TOPIC_RELEVANT_DOES_NOT_ANSWER': 1,\n",
    "    '2_GOOD_ANSWER': 2,\n",
    "    '3_PERFECT_ANSWER': 3\n",
    "}\n",
    "\n",
    "inverted_map_number = {v: k for k, v in map_number.items()}"
   ]
  },
  {
   "cell_type": "code",
   "execution_count": 184,
   "metadata": {},
   "outputs": [],
   "source": [
    "df_comparison['weighted_majority'] = df_comparison['weighted_majority'].map(inverted_map_number)"
   ]
  },
  {
   "cell_type": "code",
   "execution_count": 185,
   "metadata": {},
   "outputs": [],
   "source": [
    "df_comparison = df_comparison.merge(df_baseline[['query_id', 'doc_id', 'relevance_class']].rename(columns = {'relevance_class': 'baseline_number'}), on = ['query_id', 'doc_id'])\n",
    "df_comparison['baseline'] = df_comparison['baseline_number'].map(inverted_map_number)"
   ]
  },
  {
   "cell_type": "code",
   "execution_count": 186,
   "metadata": {},
   "outputs": [],
   "source": [
    "df_comparison['simple_majority_number'] = df_comparison['simple_majority'].map(map_number).astype(int)\n",
    "df_comparison['weighted_majority_number'] = df_comparison['weighted_majority'].map(map_number).astype(int)"
   ]
  },
  {
   "cell_type": "code",
   "execution_count": 188,
   "metadata": {},
   "outputs": [
    {
     "data": {
      "text/html": [
       "<div>\n",
       "<style scoped>\n",
       "    .dataframe tbody tr th:only-of-type {\n",
       "        vertical-align: middle;\n",
       "    }\n",
       "\n",
       "    .dataframe tbody tr th {\n",
       "        vertical-align: top;\n",
       "    }\n",
       "\n",
       "    .dataframe thead th {\n",
       "        text-align: right;\n",
       "    }\n",
       "</style>\n",
       "<table border=\"1\" class=\"dataframe\">\n",
       "  <thead>\n",
       "    <tr style=\"text-align: right;\">\n",
       "      <th></th>\n",
       "      <th>weighted_majority</th>\n",
       "      <th>simple_majority</th>\n",
       "      <th>baseline</th>\n",
       "    </tr>\n",
       "  </thead>\n",
       "  <tbody>\n",
       "    <tr>\n",
       "      <th>0</th>\n",
       "      <td>3_PERFECT_ANSWER</td>\n",
       "      <td>3_PERFECT_ANSWER</td>\n",
       "      <td>3_PERFECT_ANSWER</td>\n",
       "    </tr>\n",
       "    <tr>\n",
       "      <th>1</th>\n",
       "      <td>1_TOPIC_RELEVANT_DOES_NOT_ANSWER</td>\n",
       "      <td>1_TOPIC_RELEVANT_DOES_NOT_ANSWER</td>\n",
       "      <td>1_TOPIC_RELEVANT_DOES_NOT_ANSWER</td>\n",
       "    </tr>\n",
       "    <tr>\n",
       "      <th>2</th>\n",
       "      <td>0_NOT_RELEVANT</td>\n",
       "      <td>0_NOT_RELEVANT</td>\n",
       "      <td>0_NOT_RELEVANT</td>\n",
       "    </tr>\n",
       "    <tr>\n",
       "      <th>3</th>\n",
       "      <td>0_NOT_RELEVANT</td>\n",
       "      <td>2_GOOD_ANSWER</td>\n",
       "      <td>3_PERFECT_ANSWER</td>\n",
       "    </tr>\n",
       "    <tr>\n",
       "      <th>4</th>\n",
       "      <td>1_TOPIC_RELEVANT_DOES_NOT_ANSWER</td>\n",
       "      <td>1_TOPIC_RELEVANT_DOES_NOT_ANSWER</td>\n",
       "      <td>1_TOPIC_RELEVANT_DOES_NOT_ANSWER</td>\n",
       "    </tr>\n",
       "    <tr>\n",
       "      <th>...</th>\n",
       "      <td>...</td>\n",
       "      <td>...</td>\n",
       "      <td>...</td>\n",
       "    </tr>\n",
       "    <tr>\n",
       "      <th>24183</th>\n",
       "      <td>2_GOOD_ANSWER</td>\n",
       "      <td>2_GOOD_ANSWER</td>\n",
       "      <td>2_GOOD_ANSWER</td>\n",
       "    </tr>\n",
       "    <tr>\n",
       "      <th>24184</th>\n",
       "      <td>3_PERFECT_ANSWER</td>\n",
       "      <td>3_PERFECT_ANSWER</td>\n",
       "      <td>3_PERFECT_ANSWER</td>\n",
       "    </tr>\n",
       "    <tr>\n",
       "      <th>24185</th>\n",
       "      <td>3_PERFECT_ANSWER</td>\n",
       "      <td>3_PERFECT_ANSWER</td>\n",
       "      <td>3_PERFECT_ANSWER</td>\n",
       "    </tr>\n",
       "    <tr>\n",
       "      <th>24186</th>\n",
       "      <td>1_TOPIC_RELEVANT_DOES_NOT_ANSWER</td>\n",
       "      <td>2_GOOD_ANSWER</td>\n",
       "      <td>3_PERFECT_ANSWER</td>\n",
       "    </tr>\n",
       "    <tr>\n",
       "      <th>24187</th>\n",
       "      <td>2_GOOD_ANSWER</td>\n",
       "      <td>2_GOOD_ANSWER</td>\n",
       "      <td>2_GOOD_ANSWER</td>\n",
       "    </tr>\n",
       "  </tbody>\n",
       "</table>\n",
       "<p>24188 rows × 3 columns</p>\n",
       "</div>"
      ],
      "text/plain": [
       "                      weighted_majority                   simple_majority  \\\n",
       "0                      3_PERFECT_ANSWER                  3_PERFECT_ANSWER   \n",
       "1      1_TOPIC_RELEVANT_DOES_NOT_ANSWER  1_TOPIC_RELEVANT_DOES_NOT_ANSWER   \n",
       "2                        0_NOT_RELEVANT                    0_NOT_RELEVANT   \n",
       "3                        0_NOT_RELEVANT                     2_GOOD_ANSWER   \n",
       "4      1_TOPIC_RELEVANT_DOES_NOT_ANSWER  1_TOPIC_RELEVANT_DOES_NOT_ANSWER   \n",
       "...                                 ...                               ...   \n",
       "24183                     2_GOOD_ANSWER                     2_GOOD_ANSWER   \n",
       "24184                  3_PERFECT_ANSWER                  3_PERFECT_ANSWER   \n",
       "24185                  3_PERFECT_ANSWER                  3_PERFECT_ANSWER   \n",
       "24186  1_TOPIC_RELEVANT_DOES_NOT_ANSWER                     2_GOOD_ANSWER   \n",
       "24187                     2_GOOD_ANSWER                     2_GOOD_ANSWER   \n",
       "\n",
       "                               baseline  \n",
       "0                      3_PERFECT_ANSWER  \n",
       "1      1_TOPIC_RELEVANT_DOES_NOT_ANSWER  \n",
       "2                        0_NOT_RELEVANT  \n",
       "3                      3_PERFECT_ANSWER  \n",
       "4      1_TOPIC_RELEVANT_DOES_NOT_ANSWER  \n",
       "...                                 ...  \n",
       "24183                     2_GOOD_ANSWER  \n",
       "24184                  3_PERFECT_ANSWER  \n",
       "24185                  3_PERFECT_ANSWER  \n",
       "24186                  3_PERFECT_ANSWER  \n",
       "24187                     2_GOOD_ANSWER  \n",
       "\n",
       "[24188 rows x 3 columns]"
      ]
     },
     "execution_count": 188,
     "metadata": {},
     "output_type": "execute_result"
    }
   ],
   "source": [
    "df_comparison[['weighted_majority', 'simple_majority', 'baseline']]"
   ]
  },
  {
   "cell_type": "code",
   "execution_count": 191,
   "metadata": {},
   "outputs": [
    {
     "name": "stdout",
     "output_type": "stream",
     "text": [
      "Difference between simple majority and baseline:  0.13407474780883083\n",
      "Difference between weighted majority and baseline:  0.17351579295518438\n",
      "Difference between simple majority and weighted majority:  0.16483380188523233\n"
     ]
    }
   ],
   "source": [
    "\n",
    "df_comparison['difference_smj_weighted'] = df_comparison['simple_majority'] != df_comparison['weighted_majority']\n",
    "df_comparison['diff_smj_baseline'] = df_comparison['simple_majority'] != df_comparison['baseline']\n",
    "df_comparison['diff_baseline_weighted'] = df_comparison['baseline'] != df_comparison['weighted_majority']\n",
    "print(\"Difference between simple majority and baseline: \", np.sum(df_comparison['diff_smj_baseline'])/df_comparison.shape[0])\n",
    "print(\"Difference between weighted majority and baseline: \", np.sum(df_comparison['diff_baseline_weighted'])/df_comparison.shape[0])\n",
    "print(\"Difference between simple majority and weighted majority: \", np.sum(df_comparison['difference_smj_weighted'])/df_comparison.shape[0])\n",
    "\n",
    "df_comparison = df_comparison.merge(df_pairs, on = ['query_id', 'doc_id'])"
   ]
  },
  {
   "cell_type": "code",
   "execution_count": 192,
   "metadata": {},
   "outputs": [
    {
     "data": {
      "text/plain": [
       "(24188, 33)"
      ]
     },
     "execution_count": 192,
     "metadata": {},
     "output_type": "execute_result"
    }
   ],
   "source": [
    "df_comparison.shape"
   ]
  },
  {
   "cell_type": "code",
   "execution_count": 193,
   "metadata": {},
   "outputs": [
    {
     "data": {
      "text/plain": [
       "Index(['query_id', 'doc_id', 'simple_majority', 'weighted_majority',\n",
       "       'baseline_number', 'baseline', 'simple_majority_number',\n",
       "       'weighted_majority_number', 'difference_smj_weighted',\n",
       "       'diff_smj_baseline', 'diff_baseline_weighted', 'judgement_count_x',\n",
       "       'contradictory_x', 'relevant_x', 'relevance_score_x', 'has_majority_x',\n",
       "       'is_unanimoous_x', 'contradictory_text_x', 'relevant_text_x',\n",
       "       'relevance_score_minmax_x', 'has_majority_text_x', 'unanimous_text_x',\n",
       "       'judgement_count_y', 'contradictory_y', 'relevant_y',\n",
       "       'relevance_score_y', 'has_majority_y', 'is_unanimoous_y',\n",
       "       'contradictory_text_y', 'relevant_text_y', 'relevance_score_minmax_y',\n",
       "       'has_majority_text_y', 'unanimous_text_y'],\n",
       "      dtype='object')"
      ]
     },
     "execution_count": 193,
     "metadata": {},
     "output_type": "execute_result"
    }
   ],
   "source": [
    "df_comparison.columns"
   ]
  },
  {
   "cell_type": "code",
   "execution_count": 195,
   "metadata": {},
   "outputs": [
    {
     "data": {
      "image/png": "[encoded data removed]",
      "text/plain": [
       "<Figure size 432x288 with 2 Axes>"
      ]
     },
     "metadata": {
      "needs_background": "light"
     },
     "output_type": "display_data"
    }
   ],
   "source": [
    "# cross-tab heatmap\n",
    "cross_tab = pd.crosstab(df_comparison['baseline'], df_comparison['weighted_majority'])\n",
    "# normalize the values\n",
    "cross_tab = cross_tab / cross_tab.sum().sum()\n",
    "# plot heatmap\n",
    "sns.heatmap(cross_tab, annot=True, fmt=\".2f\", cmap='Blues')\n",
    "plt.title('Cross-tabulation of baseline and weighted majority')\n",
    "plt.show()\n"
   ]
  },
  {
   "cell_type": "code",
   "execution_count": 196,
   "metadata": {},
   "outputs": [
    {
     "data": {
      "image/png": "[encoded data removed]",
      "text/plain": [
       "<Figure size 432x288 with 2 Axes>"
      ]
     },
     "metadata": {
      "needs_background": "light"
     },
     "output_type": "display_data"
    }
   ],
   "source": [
    "# cross-tab heatmap\n",
    "cross_tab = pd.crosstab(df_comparison['baseline'], df_comparison['diff_baseline_weighted'])\n",
    "# normalize the values\n",
    "cross_tab = cross_tab / cross_tab.sum().sum()\n",
    "# plot heatmap\n",
    "sns.heatmap(cross_tab, annot=True, fmt=\".2f\", cmap='Blues')\n",
    "plt.title('Cross-tabulation of baseline and difference')\n",
    "plt.show()\n"
   ]
  },
  {
   "cell_type": "code",
   "execution_count": 201,
   "metadata": {},
   "outputs": [
    {
     "data": {
      "image/png": "[encoded data removed]",
      "text/plain": [
       "<Figure size 432x288 with 2 Axes>"
      ]
     },
     "metadata": {
      "needs_background": "light"
     },
     "output_type": "display_data"
    }
   ],
   "source": [
    "# cross-tab heatmap\n",
    "cross_tab = pd.crosstab(df_comparison['contradictory_text_x'], df_comparison['diff_baseline_weighted'])\n",
    "# normalize the values\n",
    "cross_tab = cross_tab / cross_tab.sum().sum()\n",
    "# plot heatmap\n",
    "sns.heatmap(cross_tab, annot=True, fmt=\".2f\", cmap='Blues')\n",
    "plt.title('Cross-tabulation of contradictory and difference')\n",
    "plt.show()\n"
   ]
  },
  {
   "cell_type": "code",
   "execution_count": 202,
   "metadata": {},
   "outputs": [
    {
     "data": {
      "image/png": "[encoded data removed]",
      "text/plain": [
       "<Figure size 432x288 with 2 Axes>"
      ]
     },
     "metadata": {
      "needs_background": "light"
     },
     "output_type": "display_data"
    }
   ],
   "source": [
    "# cross-tab heatmap\n",
    "cross_tab = pd.crosstab(df_comparison['unanimous_text_x'], df_comparison['diff_baseline_weighted'])\n",
    "# normalize the values\n",
    "cross_tab = cross_tab / cross_tab.sum().sum()\n",
    "# plot heatmap\n",
    "sns.heatmap(cross_tab, annot=True, fmt=\".2f\", cmap='Blues')\n",
    "plt.title('Cross-tabulation of unanimous and difference')\n",
    "plt.show()\n"
   ]
  },
  {
   "cell_type": "code",
   "execution_count": 294,
   "metadata": {},
   "outputs": [
    {
     "data": {
      "text/plain": [
       "0.4670449585333915"
      ]
     },
     "execution_count": 294,
     "metadata": {},
     "output_type": "execute_result"
    }
   ],
   "source": [
    "# proportion of judgements with provided relevance_character_ranges per relevance class\n",
    "df_raw_judgements[(df_raw_judgements['relevance_class'] == '3_PERFECT_ANSWER') & (df_raw_judgements['relevance_character_ranges'] != '<no ranges selected>')].shape[0]/df_raw_judgements[(df_raw_judgements['relevance_class'] == '3_PERFECT_ANSWER')].shape[0]"
   ]
  },
  {
   "cell_type": "code",
   "execution_count": 71,
   "metadata": {},
   "outputs": [],
   "source": [
    "def pretty_print_long_text(text, max_length=70, max_lines=3):\n",
    "    # split on spaces and add new line after max_length of characters but don't split words\n",
    "    words = text.split(' ')\n",
    "    pretty_text = ''\n",
    "    line_length = 0\n",
    "    for word in words:\n",
    "        if line_length + len(word) > max_length:\n",
    "            pretty_text += '\\n'\n",
    "            line_length = 0\n",
    "        pretty_text += word + ' '\n",
    "        line_length += len(word)\n",
    "        if pretty_text.count('\\n') >= max_lines:\n",
    "            pretty_text += '...'\n",
    "            break\n",
    "    return pretty_text"
   ]
  },
  {
   "cell_type": "code",
   "execution_count": 73,
   "metadata": {},
   "outputs": [
    {
     "name": "stdout",
     "output_type": "stream",
     "text": [
      "Conditioned dataset shape:  (2815, 22)\n",
      "Percentage to all rows with difference:  0.6707171789373362\n"
     ]
    }
   ],
   "source": [
    "def sample_judgements_based_on_pairs(df_judgements, query_id, doc_id, n_sample, random_state=42):\n",
    "    return df_judgements[(df_judgements['query_id'] == query_id) & (df_judgements['doc_id'] == doc_id)].sample(n=n_sample, randome_state=random_state).sort_values(by=['query_id', 'doc_id'])\n",
    "\n",
    "properties_dict = {\n",
    "    'contradictory': None,\n",
    "    'has_majority': 0,\n",
    "    'is_unanimoous': None,\n",
    "    'diff_baseline_weighted':1\n",
    "}\n",
    "\n",
    "condition = ' & '.join([f'{key} == {value}' for key, value in properties_dict.items() if value is not None])\n",
    "print(\"Conditioned dataset shape: \", df_comparison.query(condition).shape)\n",
    "print(\"Percentage to all rows with difference: \", df_comparison.query(condition).shape[0] / df_comparison[df_comparison['diff_baseline_weighted'] == 1].shape[0])\n",
    "df_pairs_sample = df_comparison.query(condition).sample(n=10, random_state=67).to_dict(orient='records')\n",
    "\n",
    "# # get random query_id and get all documents for that query\n",
    "# query_id = df_comparison['query_id'].sample(n=1, random_state=53).values[0]\n",
    "# df_pairs_sample_query = df_comparison[df_comparison['query_id'] == query_id].to_dict(orient='records')\n",
    "\n",
    "# df_pairs_sample = df_pairs[\n",
    "#                            (df_pairs['contradictory'] == properties_dict['contradictory']) \\\n",
    "#                          & (df_pairs['relevant'] == properties_dict['relevant']) \\\n",
    "#                          & (df_pairs['has_majority'] == properties_dict['has_majority'])\n",
    "#                         ].sample(n=10, random_state=32)[['query_id', 'doc_id', 'relevance_score']].to_dict(orient='records')\n",
    "\n"
   ]
  },
  {
   "cell_type": "code",
   "execution_count": 75,
   "metadata": {},
   "outputs": [
    {
     "name": "stdout",
     "output_type": "stream",
     "text": [
      "Number of pairs:  10\n",
      " Baseline: 3_PERFECT_ANSWER \n",
      " Weighted: 2_GOOD_ANSWER \n",
      " Contradictory: contradictory \n",
      " Unanimous: not unanimous \n",
      " Has majority: no majority\n",
      "{'query_id': 'trip_159291', 'doc_id': 'trip_10819479', 'simple_majority': '2_GOOD_ANSWER', 'weighted_majority': '2_GOOD_ANSWER', 'difference_smj_weighted': 0, 'simple_majority_number': 2, 'weighted_majority_number': 2, 'baseline_number': 3, 'baseline': '3_PERFECT_ANSWER', 'diff_smj_baseline': True, 'diff_baseline_weighted': True, 'judgement_count': 3, 'contradictory': 1, 'relevant': 1, 'relevance_score': 12.716899269295665, 'has_majority': 0, 'is_unanimoous': 0, 'contradictory_text': 'contradictory', 'relevant_text': 'relevant', 'relevance_score_minmax': 0.6551316346079018, 'has_majority_text': 'no majority', 'unanimous_text': 'not unanimous'}\n",
      "Query: treatment resistant schizophrenia\n",
      "Document: \n",
      " electroconvulsive therapy for treatment - resistant schizophrenia . background \n",
      ": electroconvulsive therapy ( ect ) involves the induction of a seizure by the \n",
      "administration of an electrical stimulus via electrodes usually placed \n",
      "bilaterally on the scalp and was introduced as a treatment for schizophrenia in \n",
      "1938 . however , ect is a controversial treatment with concerns about long - term \n",
      "side effects such a memory loss . therefore , it is important to determine its \n",
      "clinical efficacy and safety for people with schizophrenia who are not responding \n",
      "to their treatment . objectives : our primary objective was to assess the effects ( \n",
      "benefits and harms ) of ect for people with treatment - resistant schizophrenia . \n",
      "our secondary objectives were to determine whether ect produces a differential \n",
      "response ...\n",
      "Judgement: {'id': 30489, 'relevance_class': '1_TOPIC_RELEVANT_DOES_NOT_ANSWER', 'relevance_character_ranges': '<no ranges selected>', 'duration_to_judge': 38799, 'judged_at': 1649165666, 'doc_id': 'trip_10819479', 'query_id': 'trip_159291', 'user_id': 'User_50', 'agreement_score': 0.441661432160804}\n",
      "Judgement: {'id': 27280, 'relevance_class': '3_PERFECT_ANSWER', 'relevance_character_ranges': '<no ranges selected>', 'duration_to_judge': 22482, 'judged_at': 1649085203, 'doc_id': 'trip_10819479', 'query_id': 'trip_159291', 'user_id': 'User_56', 'agreement_score': 0.3847393279020352}\n",
      "Judgement: {'id': 33727, 'relevance_class': '2_GOOD_ANSWER', 'relevance_character_ranges': '315-571;951-1228', 'duration_to_judge': 160000, 'judged_at': 1649246175, 'doc_id': 'trip_10819479', 'query_id': 'trip_159291', 'user_id': 'User_86', 'agreement_score': 0.49417931340067073}\n",
      "----------------------------------\n",
      " Baseline: 2_GOOD_ANSWER \n",
      " Weighted: 1_TOPIC_RELEVANT_DOES_NOT_ANSWER \n",
      " Contradictory: contradictory \n",
      " Unanimous: not unanimous \n",
      " Has majority: no majority\n",
      "{'query_id': 'rob_q_FBIS3-16320', 'doc_id': 'rob_FR940725-2-00050', 'simple_majority': '2_GOOD_ANSWER', 'weighted_majority': '1_TOPIC_RELEVANT_DOES_NOT_ANSWER', 'difference_smj_weighted': 1, 'simple_majority_number': 2, 'weighted_majority_number': 1, 'baseline_number': 2, 'baseline': '2_GOOD_ANSWER', 'diff_smj_baseline': False, 'diff_baseline_weighted': True, 'judgement_count': 3, 'contradictory': 1, 'relevant': 0, 'relevance_score': 5.810142490647111, 'has_majority': 0, 'is_unanimoous': 0, 'contradictory_text': 'contradictory', 'relevant_text': 'non-relevant', 'relevance_score_minmax': 0.31031306928694397, 'has_majority_text': 'no majority', 'unanimous_text': 'not unanimous'}\n",
      "Query: ciss\n",
      "Document: \n",
      " in its administration of the mch services block grant , the mchb places special \n",
      "emphasis on improving service delivery to women and children from culturally \n",
      "identifiable populations who have been disproportionately affected by barriers \n",
      "to care . this means that fy 1994 mch ciss / hvaf projects are expected to involve \n",
      "members of ethno - culturally distinct groups in planning activities , unless \n",
      "there are compelling programmatic or other justifications for not doing so . \n",
      "projects funded under the mch ciss set - aside program are selected and \n",
      "administered under the same procedures and practices as are currently in effect \n",
      "for the mch special projects of regional and national significance ( sprans ) set - \n",
      "aside activities . the regulation implementing the mch sprans set - aside program \n",
      "was ...\n",
      "Judgement: {'id': 8619, 'relevance_class': '1_TOPIC_RELEVANT_DOES_NOT_ANSWER', 'relevance_character_ranges': '<no ranges selected>', 'duration_to_judge': 13670, 'judged_at': 1648748437, 'doc_id': 'rob_FR940725-2-00050', 'query_id': 'rob_q_FBIS3-16320', 'user_id': 'User_47', 'agreement_score': 0.6039876803371698}\n",
      "Judgement: {'id': 6619, 'relevance_class': '2_GOOD_ANSWER', 'relevance_character_ranges': '<no ranges selected>', 'duration_to_judge': 28238, 'judged_at': 1648720380, 'doc_id': 'rob_FR940725-2-00050', 'query_id': 'rob_q_FBIS3-16320', 'user_id': 'User_63', 'agreement_score': 0.49071003432146326}\n",
      "Judgement: {'id': 10619, 'relevance_class': '0_NOT_RELEVANT', 'relevance_character_ranges': '<no ranges selected>', 'duration_to_judge': 9205, 'judged_at': 1648804434, 'doc_id': 'rob_FR940725-2-00050', 'query_id': 'rob_q_FBIS3-16320', 'user_id': 'User_84', 'agreement_score': 0.42782460690549523}\n",
      "----------------------------------\n",
      " Baseline: 3_PERFECT_ANSWER \n",
      " Weighted: 2_GOOD_ANSWER \n",
      " Contradictory: non-contradictory \n",
      " Unanimous: not unanimous \n",
      " Has majority: no majority\n",
      "{'query_id': 'trip_27040', 'doc_id': 'trip_1676332', 'simple_majority': '2_GOOD_ANSWER', 'weighted_majority': '2_GOOD_ANSWER', 'difference_smj_weighted': 0, 'simple_majority_number': 2, 'weighted_majority_number': 2, 'baseline_number': 3, 'baseline': '3_PERFECT_ANSWER', 'diff_smj_baseline': True, 'diff_baseline_weighted': True, 'judgement_count': 2, 'contradictory': 0, 'relevant': 1, 'relevance_score': 10.819788284360284, 'has_majority': 0, 'is_unanimoous': 0, 'contradictory_text': 'non-contradictory', 'relevant_text': 'relevant', 'relevance_score_minmax': 0.5604187166574239, 'has_majority_text': 'no majority', 'unanimous_text': 'not unanimous'}\n",
      "Query: post partum haemorrhage\n",
      "Document: \n",
      " misoprostol as an adjunct to standard uterotonics for treatment of post - partum \n",
      "haemorrhage : a multicentre , double - blind randomised trial . background : post - \n",
      "partum haemorrhage is a leading cause of global maternal morbidity and mortality . \n",
      "misoprostol , a prostaglandin analogue with uterotonic activity , is an \n",
      "attractive option for treatment because it is stable , active orally , and \n",
      "inexpensive . we aimed to assess the effectiveness of misoprostol as an adjunct to \n",
      "standard uterotonics compared with standard uterotonics alone for treatment of \n",
      "post - partum haemorrhage . methods : women delivering vaginally who had \n",
      "clinically diagnosed post - partum haemorrhage due to uterine atony were enrolled \n",
      "from participating hospitals in argentina , egypt , south africa , thailand , and \n",
      "vietnam ...\n",
      "Judgement: {'id': 67586, 'relevance_class': '3_PERFECT_ANSWER', 'relevance_character_ranges': '157-405', 'duration_to_judge': 31563, 'judged_at': 1649719535, 'doc_id': 'trip_1676332', 'query_id': 'trip_27040', 'user_id': 'User_49', 'agreement_score': 0.378637372911067}\n",
      "Judgement: {'id': 64649, 'relevance_class': '2_GOOD_ANSWER', 'relevance_character_ranges': '158-591', 'duration_to_judge': 27223, 'judged_at': 1649702934, 'doc_id': 'trip_1676332', 'query_id': 'trip_27040', 'user_id': 'User_55', 'agreement_score': 0.6938099588853358}\n",
      "----------------------------------\n",
      " Baseline: 3_PERFECT_ANSWER \n",
      " Weighted: 2_GOOD_ANSWER \n",
      " Contradictory: contradictory \n",
      " Unanimous: not unanimous \n",
      " Has majority: no majority\n",
      "{'query_id': 'trip_484646', 'doc_id': 'trip_9403598', 'simple_majority': '2_GOOD_ANSWER', 'weighted_majority': '2_GOOD_ANSWER', 'difference_smj_weighted': 0, 'simple_majority_number': 2, 'weighted_majority_number': 2, 'baseline_number': 3, 'baseline': '3_PERFECT_ANSWER', 'diff_smj_baseline': True, 'diff_baseline_weighted': True, 'judgement_count': 3, 'contradictory': 1, 'relevant': 1, 'relevance_score': 12.716899269295665, 'has_majority': 0, 'is_unanimoous': 0, 'contradictory_text': 'contradictory', 'relevant_text': 'relevant', 'relevance_score_minmax': 0.6551316346079018, 'has_majority_text': 'no majority', 'unanimous_text': 'not unanimous'}\n",
      "Query: telehealth nursing\n",
      "Document: \n",
      " nursing professionals ' experiences of the facilitators and barriers to the use of \n",
      "telehealth applications : a systematic review of qualitative studies . the aim of \n",
      "the study was to synthesise the best available research evidence on nursing \n",
      "professionals ' experiences of the facilitators and barriers to the use of online \n",
      "telehealth services in nursing practice . telehealth is used to deliver \n",
      "healthcare services and health - related information by means of information and \n",
      "communication technology ( ict ) . the systematic review of qualitative studies \n",
      "was conducted using thematic synthesis of previous studies . international \n",
      "electronic databases pubmed , cinahl , eric , web of science / web of knowledge and \n",
      "scopus , and finnish databases medic and ohtanen were searched in spring 2013 . in \n",
      "addition ...\n",
      "Judgement: {'id': 51529, 'relevance_class': '1_TOPIC_RELEVANT_DOES_NOT_ANSWER', 'relevance_character_ranges': '<no ranges selected>', 'duration_to_judge': 56808, 'judged_at': 1649584797, 'doc_id': 'trip_9403598', 'query_id': 'trip_484646', 'user_id': 'User_92', 'agreement_score': 0.4888816552397616}\n",
      "Judgement: {'id': 54551, 'relevance_class': '2_GOOD_ANSWER', 'relevance_character_ranges': '365-500', 'duration_to_judge': 58648, 'judged_at': 1649611231, 'doc_id': 'trip_9403598', 'query_id': 'trip_484646', 'user_id': 'User_120', 'agreement_score': 0.6341776978276598}\n",
      "Judgement: {'id': 48507, 'relevance_class': '3_PERFECT_ANSWER', 'relevance_character_ranges': '364-509', 'duration_to_judge': 42852, 'judged_at': 1649519217, 'doc_id': 'trip_9403598', 'query_id': 'trip_484646', 'user_id': 'User_141', 'agreement_score': 0.5201005025125628}\n",
      "----------------------------------\n",
      " Baseline: 3_PERFECT_ANSWER \n",
      " Weighted: 0_NOT_RELEVANT \n",
      " Contradictory: contradictory \n",
      " Unanimous: not unanimous \n",
      " Has majority: no majority\n",
      "{'query_id': 'trip_1017708', 'doc_id': 'trip_658038', 'simple_majority': '2_GOOD_ANSWER', 'weighted_majority': '0_NOT_RELEVANT', 'difference_smj_weighted': 1, 'simple_majority_number': 2, 'weighted_majority_number': 0, 'baseline_number': 3, 'baseline': '3_PERFECT_ANSWER', 'diff_smj_baseline': True, 'diff_baseline_weighted': True, 'judgement_count': 3, 'contradictory': 1, 'relevant': 1, 'relevance_score': 10.414323176252118, 'has_majority': 0, 'is_unanimoous': 0, 'contradictory_text': 'contradictory', 'relevant_text': 'relevant', 'relevance_score_minmax': 0.5401759455064581, 'has_majority_text': 'no majority', 'unanimous_text': 'not unanimous'}\n",
      "Query: astragalus membranaceus\n",
      "Document: \n",
      " treatment of idiopathic membranous nephropathy with the herb astragalus \n",
      "membranaceus . a 77 - year - old woman with nephrotic syndrome secondary to \n",
      "idiopathic membranous nephropathy was treated with angiotensin - converting \n",
      "enzyme inhibitors , angiotensin receptor blockers , cyclosporine a , and \n",
      "mycophenolate mofetil , without response . after more than 2 years of unremitting \n",
      "nephrosis , she began therapy with the herb astragalus membranaceus , used by \n",
      "traditional chinese physicians to treat various immune disorders , including \n",
      "glomerulonephritis . after institution of astragalus at a dose of 15 g / d , there was \n",
      "a marked decrease in proteinuria . nephrotic syndrome recurred after temporary \n",
      "cessation of astragalus therapy , with complete remission of nephrosis observed \n",
      "after ...\n",
      "Judgement: {'id': 31750, 'relevance_class': '2_GOOD_ANSWER', 'relevance_character_ranges': '<no ranges selected>', 'duration_to_judge': 12825, 'judged_at': 1649187536, 'doc_id': 'trip_658038', 'query_id': 'trip_1017708', 'user_id': 'User_8', 'agreement_score': 0.4508654383026242}\n",
      "Judgement: {'id': 34988, 'relevance_class': '0_NOT_RELEVANT', 'relevance_character_ranges': '<no ranges selected>', 'duration_to_judge': 160000, 'judged_at': 1649262767, 'doc_id': 'trip_658038', 'query_id': 'trip_1017708', 'user_id': 'User_9', 'agreement_score': 0.5555796222491769}\n",
      "Judgement: {'id': 28541, 'relevance_class': '3_PERFECT_ANSWER', 'relevance_character_ranges': '<no ranges selected>', 'duration_to_judge': 4774, 'judged_at': 1649103903, 'doc_id': 'trip_658038', 'query_id': 'trip_1017708', 'user_id': 'User_21', 'agreement_score': 0.2901208168502086}\n",
      "----------------------------------\n",
      " Baseline: 3_PERFECT_ANSWER \n",
      " Weighted: 0_NOT_RELEVANT \n",
      " Contradictory: contradictory \n",
      " Unanimous: not unanimous \n",
      " Has majority: no majority\n",
      "{'query_id': 'rob_qq_FT921-8432', 'doc_id': 'rob_LA120790-0001', 'simple_majority': '2_GOOD_ANSWER', 'weighted_majority': '0_NOT_RELEVANT', 'difference_smj_weighted': 1, 'simple_majority_number': 2, 'weighted_majority_number': 0, 'baseline_number': 3, 'baseline': '3_PERFECT_ANSWER', 'diff_smj_baseline': True, 'diff_baseline_weighted': True, 'judgement_count': 3, 'contradictory': 1, 'relevant': 1, 'relevance_score': 10.414323176252118, 'has_majority': 0, 'is_unanimoous': 0, 'contradictory_text': 'contradictory', 'relevant_text': 'relevant', 'relevance_score_minmax': 0.5401759455064581, 'has_majority_text': 'no majority', 'unanimous_text': 'not unanimous'}\n",
      "Query:  What was the name of the woman who reached out to supporters during her campaign?\n",
      "Document: \n",
      " \"\"\" part a ; page 1 ; column 5 ; metro desk vote on bernhardt recall qualifies for s . d . \n",
      "ballot ; politics : only 49 signatures made the difference . a call for a recount and \n",
      "legal challenges are expected . by barry m . horstman , times staff writer san diego \n",
      "drawing the battle lines for san diego ' s first recall campaign , city election \n",
      "officials announced thursday that a group seeking to oust councilwoman linda \n",
      "bernhardt has narrowly qualified the issue for the ballot early next year . by an \n",
      "unexpectedly slim margin of 49 signatures , the recall bernhardt committee \n",
      "surpassed the 11 , 240 valid names of registered voters needed to force a recall \n",
      "election . bernhardt will battle to retain her 5th district seat while would - be \n",
      "successors compete in a tandem race to possibly replace her . a possible recount and \n",
      "likely ...\n",
      "Judgement: {'id': 15983, 'relevance_class': '3_PERFECT_ANSWER', 'relevance_character_ranges': '<no ranges selected>', 'duration_to_judge': 160000, 'judged_at': 1648967664, 'doc_id': 'rob_LA120790-0001', 'query_id': 'rob_qq_FT921-8432', 'user_id': 'User_3', 'agreement_score': 0.2947347732319101}\n",
      "Judgement: {'id': 17983, 'relevance_class': '0_NOT_RELEVANT', 'relevance_character_ranges': '<no ranges selected>', 'duration_to_judge': 73910, 'judged_at': 1649012276, 'doc_id': 'rob_LA120790-0001', 'query_id': 'rob_qq_FT921-8432', 'user_id': 'User_35', 'agreement_score': 0.4548755337380544}\n",
      "Judgement: {'id': 16983, 'relevance_class': '2_GOOD_ANSWER', 'relevance_character_ranges': '1378-1478;1939-1949;2271-2342;2362-2406', 'duration_to_judge': 143499, 'judged_at': 1648988584, 'doc_id': 'rob_LA120790-0001', 'query_id': 'rob_qq_FT921-8432', 'user_id': 'User_90', 'agreement_score': 0.24829145728643234}\n",
      "----------------------------------\n",
      " Baseline: 3_PERFECT_ANSWER \n",
      " Weighted: 1_TOPIC_RELEVANT_DOES_NOT_ANSWER \n",
      " Contradictory: contradictory \n",
      " Unanimous: not unanimous \n",
      " Has majority: no majority\n",
      "{'query_id': 'trip_12457', 'doc_id': 'trip_10320547', 'simple_majority': '2_GOOD_ANSWER', 'weighted_majority': '1_TOPIC_RELEVANT_DOES_NOT_ANSWER', 'difference_smj_weighted': 1, 'simple_majority_number': 2, 'weighted_majority_number': 1, 'baseline_number': 3, 'baseline': '3_PERFECT_ANSWER', 'diff_smj_baseline': True, 'diff_baseline_weighted': True, 'judgement_count': 3, 'contradictory': 1, 'relevant': 1, 'relevance_score': 12.716899269295665, 'has_majority': 0, 'is_unanimoous': 0, 'contradictory_text': 'contradictory', 'relevant_text': 'relevant', 'relevance_score_minmax': 0.6551316346079018, 'has_majority_text': 'no majority', 'unanimous_text': 'not unanimous'}\n",
      "Query: chronic obstructive pulmonary disease\n",
      "Document: \n",
      " call to action : improving primary care for women with copd in this perspective - \n",
      "based article , which is based on findings from a comprehensive literature search , \n",
      "we discuss the significant and growing burden of chronic obstructive pulmonary \n",
      "disease in women worldwide . chronic obstructive pulmonary disease now affects \n",
      "both men and women almost equally . despite this , there remains an outdated \n",
      "perception of chronic obstructive pulmonary disease as a male - dominated disease \n",
      ". primary care physicians play a central role in overseeing the multidisciplinary \n",
      "care of women with chronic obstructive pulmonary disease . many women with chronic \n",
      "obstructive pulmonary disease delay seeking medical assistance , due to fear of \n",
      "stigmatization or dismissing symptoms as a ' smoker ' s cough ' . improving \n",
      "awareness ...\n",
      "Judgement: {'id': 49051, 'relevance_class': '3_PERFECT_ANSWER', 'relevance_character_ranges': '<no ranges selected>', 'duration_to_judge': 59643, 'judged_at': 1649526847, 'doc_id': 'trip_10320547', 'query_id': 'trip_12457', 'user_id': 'User_96', 'agreement_score': 0.4835926621057093}\n",
      "Judgement: {'id': 46029, 'relevance_class': '1_TOPIC_RELEVANT_DOES_NOT_ANSWER', 'relevance_character_ranges': '<no ranges selected>', 'duration_to_judge': 94098, 'judged_at': 1649526833, 'doc_id': 'trip_10320547', 'query_id': 'trip_12457', 'user_id': 'User_136', 'agreement_score': 0.5391023558858935}\n",
      "Judgement: {'id': 52073, 'relevance_class': '2_GOOD_ANSWER', 'relevance_character_ranges': '<no ranges selected>', 'duration_to_judge': 9871, 'judged_at': 1649589551, 'doc_id': 'trip_10320547', 'query_id': 'trip_12457', 'user_id': 'User_145', 'agreement_score': 0.49928847778716606}\n",
      "----------------------------------\n",
      " Baseline: 3_PERFECT_ANSWER \n",
      " Weighted: 2_GOOD_ANSWER \n",
      " Contradictory: contradictory \n",
      " Unanimous: not unanimous \n",
      " Has majority: no majority\n",
      "{'query_id': 'trip_11116', 'doc_id': 'trip_4765510', 'simple_majority': '2_GOOD_ANSWER', 'weighted_majority': '2_GOOD_ANSWER', 'difference_smj_weighted': 0, 'simple_majority_number': 2, 'weighted_majority_number': 2, 'baseline_number': 3, 'baseline': '3_PERFECT_ANSWER', 'diff_smj_baseline': True, 'diff_baseline_weighted': True, 'judgement_count': 3, 'contradictory': 1, 'relevant': 1, 'relevance_score': 12.716899269295665, 'has_majority': 0, 'is_unanimoous': 0, 'contradictory_text': 'contradictory', 'relevant_text': 'relevant', 'relevance_score_minmax': 0.6551316346079018, 'has_majority_text': 'no majority', 'unanimous_text': 'not unanimous'}\n",
      "Query: obesity prevention\n",
      "Document: \n",
      " obesity prevention programs and policies : practitioner and policy - maker \n",
      "perceptions of feasibility and effectiveness . objectives : the aims of this study \n",
      "were to map obesity prevention activity being implemented by government , non - \n",
      "government , and community - based organizations ; to determine practitioner and \n",
      "policy - maker perceptions of the feasibility and effectiveness of a range of \n",
      "evidence - based obesity prevention strategies ; and to determine practitioner \n",
      "and policy - maker perceptions of preferred settings for obesity prevention \n",
      "strategies . design and methods : this study involved a cross - sectional survey of \n",
      "304 public health practitioners and policy - makers from government , non - \n",
      "government , and community organizations across victoria , australia . \n",
      "participants ...\n",
      "Judgement: {'id': 49967, 'relevance_class': '2_GOOD_ANSWER', 'relevance_character_ranges': '1739-2156', 'duration_to_judge': 44547, 'judged_at': 1649539382, 'doc_id': 'trip_4765510', 'query_id': 'trip_11116', 'user_id': 'User_100', 'agreement_score': 0.49875706300851763}\n",
      "Judgement: {'id': 46945, 'relevance_class': '1_TOPIC_RELEVANT_DOES_NOT_ANSWER', 'relevance_character_ranges': '<no ranges selected>', 'duration_to_judge': 2093, 'judged_at': 1649502948, 'doc_id': 'trip_4765510', 'query_id': 'trip_11116', 'user_id': 'User_112', 'agreement_score': 0.34350779320330466}\n",
      "Judgement: {'id': 52989, 'relevance_class': '3_PERFECT_ANSWER', 'relevance_character_ranges': '0-121;170-286;328-561;1726-1837', 'duration_to_judge': 34198, 'judged_at': 1649600108, 'doc_id': 'trip_4765510', 'query_id': 'trip_11116', 'user_id': 'User_129', 'agreement_score': 0.42652808852227003}\n",
      "----------------------------------\n",
      " Baseline: 3_PERFECT_ANSWER \n",
      " Weighted: 1_TOPIC_RELEVANT_DOES_NOT_ANSWER \n",
      " Contradictory: contradictory \n",
      " Unanimous: not unanimous \n",
      " Has majority: no majority\n",
      "{'query_id': 'trip_811071', 'doc_id': 'trip_9371008', 'simple_majority': '2_GOOD_ANSWER', 'weighted_majority': '1_TOPIC_RELEVANT_DOES_NOT_ANSWER', 'difference_smj_weighted': 1, 'simple_majority_number': 2, 'weighted_majority_number': 1, 'baseline_number': 3, 'baseline': '3_PERFECT_ANSWER', 'diff_smj_baseline': True, 'diff_baseline_weighted': True, 'judgement_count': 3, 'contradictory': 1, 'relevant': 1, 'relevance_score': 12.716899269295665, 'has_majority': 0, 'is_unanimoous': 0, 'contradictory_text': 'contradictory', 'relevant_text': 'relevant', 'relevance_score_minmax': 0.6551316346079018, 'has_majority_text': 'no majority', 'unanimous_text': 'not unanimous'}\n",
      "Query: fast preoperative aspiration\n",
      "Document: \n",
      " preoperative fasting for adults to prevent perioperative complications . \n",
      "background : fasting before general anaesthesia aims to reduce the volume and \n",
      "acidity of stomach contents during surgery , thus reducing the risk of \n",
      "regurgitation / aspiration . recent guidelines have recommended a shift in \n",
      "fasting policy from the standard ' nil by mouth from midnight ' approach to more \n",
      "relaxed policies which permit a period of restricted fluid intake up to a few hours \n",
      "before surgery . the evidence underpinning these guidelines however , was \n",
      "scattered across a range of journals , in a variety of languages , used a variety of \n",
      "outcome measures and methodologies to evaluate fasting regimens that differed in \n",
      "duration and the type and volume of intake permitted during a restricted fasting \n",
      "period ...\n",
      "Judgement: {'id': 32655, 'relevance_class': '3_PERFECT_ANSWER', 'relevance_character_ranges': '<no ranges selected>', 'duration_to_judge': 6516, 'judged_at': 1649228414, 'doc_id': 'trip_9371008', 'query_id': 'trip_811071', 'user_id': 'User_0', 'agreement_score': 0.49379761157657026}\n",
      "Judgement: {'id': 35986, 'relevance_class': '2_GOOD_ANSWER', 'relevance_character_ranges': '0-247', 'duration_to_judge': 31683, 'judged_at': 1649277087, 'doc_id': 'trip_9371008', 'query_id': 'trip_811071', 'user_id': 'User_51', 'agreement_score': 0.4518370463952032}\n",
      "Judgement: {'id': 29539, 'relevance_class': '1_TOPIC_RELEVANT_DOES_NOT_ANSWER', 'relevance_character_ranges': '<no ranges selected>', 'duration_to_judge': 32984, 'judged_at': 1649145985, 'doc_id': 'trip_9371008', 'query_id': 'trip_811071', 'user_id': 'User_76', 'agreement_score': 0.5775103968116446}\n",
      "----------------------------------\n",
      " Baseline: 3_PERFECT_ANSWER \n",
      " Weighted: 1_TOPIC_RELEVANT_DOES_NOT_ANSWER \n",
      " Contradictory: contradictory \n",
      " Unanimous: not unanimous \n",
      " Has majority: no majority\n",
      "{'query_id': 'trip_956731', 'doc_id': 'trip_5626541', 'simple_majority': '2_GOOD_ANSWER', 'weighted_majority': '1_TOPIC_RELEVANT_DOES_NOT_ANSWER', 'difference_smj_weighted': 1, 'simple_majority_number': 2, 'weighted_majority_number': 1, 'baseline_number': 3, 'baseline': '3_PERFECT_ANSWER', 'diff_smj_baseline': True, 'diff_baseline_weighted': True, 'judgement_count': 3, 'contradictory': 1, 'relevant': 1, 'relevance_score': 12.716899269295665, 'has_majority': 0, 'is_unanimoous': 0, 'contradictory_text': 'contradictory', 'relevant_text': 'relevant', 'relevance_score_minmax': 0.6551316346079018, 'has_majority_text': 'no majority', 'unanimous_text': 'not unanimous'}\n",
      "Query: cardiac patient education patient perspective\n",
      "Document: \n",
      " knowledge and skills needed for patient education for individuals with coronary \n",
      "heart disease : the perspective of health professionals . background : there is a \n",
      "lack of studies on the knowledge and skills needed for patient education of \n",
      "individuals with coronary heart disease . better understanding of what \n",
      "competencies health professionals see as necessary for patient education in \n",
      "secondary prevention can contribute to improved education of educators , and thus \n",
      ", improved patient education . aim : the purpose of this study was to investigate \n",
      "health professionals ' views on the knowledge and skills necessary in conducting \n",
      "high - quality patient education for adults recently diagnosed with coronary \n",
      "heart disease . methods : a qualitative study was conducted using individual \n",
      "interviews ...\n",
      "Judgement: {'id': 44228, 'relevance_class': '2_GOOD_ANSWER', 'relevance_character_ranges': '<no ranges selected>', 'duration_to_judge': 18962, 'judged_at': 1649437298, 'doc_id': 'trip_5626541', 'query_id': 'trip_956731', 'user_id': 'User_0', 'agreement_score': 0.49379761157657026}\n",
      "Judgement: {'id': 41122, 'relevance_class': '1_TOPIC_RELEVANT_DOES_NOT_ANSWER', 'relevance_character_ranges': '<no ranges selected>', 'duration_to_judge': 71680, 'judged_at': 1649411069, 'doc_id': 'trip_5626541', 'query_id': 'trip_956731', 'user_id': 'User_4', 'agreement_score': 0.5085098861139871}\n",
      "Judgement: {'id': 38016, 'relevance_class': '3_PERFECT_ANSWER', 'relevance_character_ranges': '0-135;217-277;469-495', 'duration_to_judge': 48500, 'judged_at': 1649341887, 'doc_id': 'trip_5626541', 'query_id': 'trip_956731', 'user_id': 'User_126', 'agreement_score': 0.4629191037152979}\n",
      "----------------------------------\n"
     ]
    }
   ],
   "source": [
    "def explore_judgements_per_pair(df_judgements, df_queries, df_documents, df_pairs_sample):\n",
    "    print(\"Number of pairs: \", len(df_pairs_sample))\n",
    "    for pair in df_pairs_sample:\n",
    "        print(f\" Baseline: {pair['baseline']} \\n Weighted: {pair['weighted_majority']} \\n Contradictory: {pair['contradictory_text']} \\n Unanimous: {pair['unanimous_text']} \\n Has majority: {pair['has_majority_text']}\")\n",
    "        print(pair)\n",
    "        # print(f'Baseline: {pair['']}, Weighted: {}, Contradictory: {}, Unanimous: {}, Has majority: {}')\n",
    "        query_text = df_queries[df_queries['query_id'] == pair['query_id']]['query_text'].values[0]\n",
    "        document_text = df_documents[df_documents['doc_id'] == pair['doc_id']]['doc_text'].values[0]\n",
    "        # get all judgements\n",
    "        print(f'Query: {query_text}')\n",
    "        print(f'Document: \\n {pretty_print_long_text(document_text, max_length=70, max_lines=10)}')\n",
    "        judgements = df_judgements[(df_judgements['query_id'] == pair['query_id']) & (df_judgements['doc_id'] == pair['doc_id'])].to_dict(orient='records')\n",
    "        for judgement in judgements:\n",
    "            # print(f'Relevance class: {judgement[\"relevance_class\"]}')\n",
    "            print(f'Judgement: {judgement}')\n",
    "        print('----------------------------------')\n",
    "\n",
    "explore_judgements_per_pair(df_raw_judgements, df_queries, df_documents, df_pairs_sample)\n",
    "\n",
    "# explore_judgements_per_pair(df_raw_judgements, df_queries, df_documents, df_pairs_sample_query)\n"
   ]
  },
  {
   "cell_type": "code",
   "execution_count": 2,
   "metadata": {},
   "outputs": [],
   "source": [
    "\n",
    "df_judg = pd.read_csv('../data/Part-1/fira-22.judgements-anonymized-aggregated_v1.tsv', sep=' ', header=None)"
   ]
  },
  {
   "cell_type": "code",
   "execution_count": 3,
   "metadata": {},
   "outputs": [],
   "source": [
    "df_judg.columns = ['query_id', 'place_holder', 'doc_id', 'relevance_class']"
   ]
  },
  {
   "cell_type": "code",
   "execution_count": 4,
   "metadata": {},
   "outputs": [],
   "source": [
    "aggr = df_judg.groupby(by = ['query_id']).count().reset_index().sort_values(by='doc_id', ascending=False)"
   ]
  },
  {
   "cell_type": "code",
   "execution_count": 9,
   "metadata": {},
   "outputs": [
    {
     "data": {
      "text/plain": [
       "<AxesSubplot:title={'center':'Number of documents per query in FIRA dataset'}, ylabel='Frequency'>"
      ]
     },
     "execution_count": 9,
     "metadata": {},
     "output_type": "execute_result"
    },
    {
     "data": {
      "image/png": "[encoded data removed]",
      "text/plain": [
       "<Figure size 432x288 with 1 Axes>"
      ]
     },
     "metadata": {
      "needs_background": "light"
     },
     "output_type": "display_data"
    }
   ],
   "source": [
    "aggr['place_holder'].plot(kind='hist', bins=20, xlabel = 'Number of documents per query', ylabel = 'frequency', title = 'Number of documents per query in FIRA dataset')"
   ]
  },
  {
   "cell_type": "code",
   "execution_count": null,
   "metadata": {},
   "outputs": [],
   "source": []
  }
 ],
 "metadata": {
  "kernelspec": {
   "display_name": "air_ex2",
   "language": "python",
   "name": "python3"
  },
  "language_info": {
   "codemirror_mode": {
    "name": "ipython",
    "version": 3
   },
   "file_extension": ".py",
   "mimetype": "text/x-python",
   "name": "python",
   "nbconvert_exporter": "python",
   "pygments_lexer": "ipython3",
   "version": "3.6.12"
  }
 },
 "nbformat": 4,
 "nbformat_minor": 2
}
