{
  "cells": [
    {
      "cell_type": "markdown",
      "metadata": {},
      "source": [
        "## Part 3 - Extractive QA **30 points**\n",
        "\n",
        "Use the transformers library to download a pre-trained extractive QA model from the HuggingFace model hub and run the extractive QA pipeline on the top-1 neural re-ranking result of the MSMARCO FIRA set as well as on the gold-label pairs of MSMARCO-FiRA-2021 (created in 2021). \n",
        "\n",
        "- Get to know the HuggingFace library & model hub\n",
        "- Select a pre-trained extractive QA model from the model hub to use\n",
        "- Implement code  in ``src/extractive_qa.py`` to load the model, tokenize query passage pairs, and run inference, store results with the HuggingFace library\n",
        "\t- The goal of extractive QA is to provide one or more text-spans that answers a given (query,passage) pair\n",
        "- Evaluate both your top-1 (or more) MSMARCO passage results from the best re-ranking model using **msmarco-fira-21.qrels.qa-answers.tsv** (only evaluate the overlap of pairs that are in the result and the qrels) + the provided FiRA gold-label pairs **msmarco-fira-21.qrels.qa-tuples.tsv** using the provided qa evaluation methods in core_metrics.py with the MSMARCO-FiRA-2021 QA labels\n",
        "\n",
        "The data format for the FiRA data is as follows:\n",
        "\n",
        "**msmarco-fira-21.qrels.qa-answers.tsv**\n",
        "\n",
        "``queryid documentid relevance-grade text-selection (multiple answers possible, split with tab)``\n",
        "\n",
        "**msmarco-fira-21.qrels.qa-tuples.tsv**\n",
        "\n",
        "``queryid documentid relevance-grade query-text document-text text-selection (multiple answers possible, split with tab)``\n"
      ]
    },
    {
      "cell_type": "markdown",
      "metadata": {},
      "source": [
        "# Setup"
      ]
    },
    {
      "cell_type": "markdown",
      "metadata": {},
      "source": [
        "In this file we setup the code necessary to run the extractive_qa.py file in google colab. In order to run the file locally just enter python src/extractive_qa.py into the terminal - make sure to set the current working directory to ~/air-2024-group_32."
      ]
    },
    {
      "cell_type": "code",
      "execution_count": null,
      "metadata": {
        "colab": {
          "base_uri": "https://localhost:8080/"
        },
        "id": "mu7f1uVB3m5G",
        "outputId": "b988b160-3a09-479f-fc72-a266e579808b"
      },
      "outputs": [
        {
          "name": "stdout",
          "output_type": "stream",
          "text": [
            "Drive already mounted at /content/drive; to attempt to forcibly remount, call drive.mount(\"/content/drive\", force_remount=True).\n"
          ]
        }
      ],
      "source": [
        "from google.colab import drive\n",
        "drive.mount('/content/drive')\n"
      ]
    },
    {
      "cell_type": "code",
      "execution_count": null,
      "metadata": {
        "colab": {
          "base_uri": "https://localhost:8080/"
        },
        "id": "ov97IpQO6Ri5",
        "outputId": "48574c43-0433-4dfd-9835-67691b71cdd8"
      },
      "outputs": [
        {
          "name": "stdout",
          "output_type": "stream",
          "text": [
            "/content/drive/MyDrive/AIR Zeug/air-2024-group_32\n"
          ]
        }
      ],
      "source": [
        "%cd '/content/drive/MyDrive/AIR Zeug/air-2024-group_32'"
      ]
    },
    {
      "cell_type": "code",
      "execution_count": null,
      "metadata": {
        "colab": {
          "base_uri": "https://localhost:8080/"
        },
        "id": "3nsR8_5M6ZJu",
        "outputId": "cbedc79e-6e81-4fb0-b7bc-d06b905379d1"
      },
      "outputs": [
        {
          "name": "stdout",
          "output_type": "stream",
          "text": [
            "2024-06-30 09:18:43.476896: E external/local_xla/xla/stream_executor/cuda/cuda_dnn.cc:9261] Unable to register cuDNN factory: Attempting to register factory for plugin cuDNN when one has already been registered\n",
            "2024-06-30 09:18:43.476960: E external/local_xla/xla/stream_executor/cuda/cuda_fft.cc:607] Unable to register cuFFT factory: Attempting to register factory for plugin cuFFT when one has already been registered\n",
            "2024-06-30 09:18:43.478335: E external/local_xla/xla/stream_executor/cuda/cuda_blas.cc:1515] Unable to register cuBLAS factory: Attempting to register factory for plugin cuBLAS when one has already been registered\n",
            "2024-06-30 09:18:43.485531: I tensorflow/core/platform/cpu_feature_guard.cc:182] This TensorFlow binary is optimized to use available CPU instructions in performance-critical operations.\n",
            "To enable the following instructions: AVX2 FMA, in other operations, rebuild TensorFlow with the appropriate compiler flags.\n",
            "2024-06-30 09:18:44.478504: W tensorflow/compiler/tf2tensorrt/utils/py_utils.cc:38] TF-TRT Warning: Could not find TensorRT\n",
            "Data Loading...\n",
            "loading data successful\n",
            "exracting top-1 reranked result\n",
            "/content/drive/MyDrive/AIR Zeug/air-2024-group_32/src/extractive_qa.py:41: SettingWithCopyWarning: \n",
            "A value is trying to be set on a copy of a slice from a DataFrame\n",
            "\n",
            "See the caveats in the documentation: https://pandas.pydata.org/pandas-docs/stable/user_guide/indexing.html#returning-a-view-versus-a-copy\n",
            "  top_ranked_docs.rename(columns={'doc_id': 'documentid'}, inplace=True)\n",
            "extraction successful\n",
            "Downloading Model: roberta-base-squad2\n",
            "tokenizer_config.json: 100% 79.0/79.0 [00:00<00:00, 600kB/s]\n",
            "/usr/local/lib/python3.10/dist-packages/huggingface_hub/file_download.py:1132: FutureWarning: `resume_download` is deprecated and will be removed in version 1.0.0. Downloads always resume when possible. If you want to force a new download, use `force_download=True`.\n",
            "  warnings.warn(\n",
            "config.json: 100% 571/571 [00:00<00:00, 4.42MB/s]\n",
            "vocab.json: 100% 899k/899k [00:00<00:00, 3.67MB/s]\n",
            "merges.txt: 100% 456k/456k [00:00<00:00, 7.11MB/s]\n",
            "special_tokens_map.json: 100% 772/772 [00:00<00:00, 5.73MB/s]\n",
            "model.safetensors: 100% 496M/496M [00:04<00:00, 122MB/s]\n",
            "Run Model for Fira Tuples dataset\n",
            "GPU available\n",
            "Processing step 9 of 52606You seem to be using the pipelines sequentially on GPU. In order to maximize efficiency please use a dataset\n",
            "Processing step 52605 of 52606\n",
            "Save Results\n",
            "msmarco-fira-21.qrels.qa-tuples results saved to data/results_part3/fira_tuples_qa_results.tsv\n",
            "Run Model for Top-1 Reranked data\n",
            "GPU available\n",
            "Processing step 830 of 831\n",
            "Save Results\n",
            "msmarco reranked results saved to data/results_part3/msmarco_top1_qa_results.tsv\n",
            "evaluate metrics using core_metrics.py\n",
            "evaluating...\n",
            "Evaliaton:\n",
            "Fira\n",
            "#Rows: 52606, F1 (Overlap): 0.4156535813978337, Exact Match: 0.13085959776451356\n",
            "MSMARCO\n",
            "#Rows: 831, F1 (Overlap): 0.4445981730056313, Exact Match: 0.17689530685920576\n"
          ]
        }
      ],
      "source": [
        "!python src/extractive_qa.py"
      ]
    }
  ],
  "metadata": {
    "accelerator": "GPU",
    "colab": {
      "gpuType": "T4",
      "provenance": []
    },
    "kernelspec": {
      "display_name": "Python 3",
      "name": "python3"
    },
    "language_info": {
      "codemirror_mode": {
        "name": "ipython",
        "version": 3
      },
      "file_extension": ".py",
      "mimetype": "text/x-python",
      "name": "python",
      "nbconvert_exporter": "python",
      "pygments_lexer": "ipython3",
      "version": "3.6.13"
    }
  },
  "nbformat": 4,
  "nbformat_minor": 0
}
